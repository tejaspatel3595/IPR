{
 "cells": [
  {
   "cell_type": "code",
   "execution_count": 1,
   "id": "709fddae",
   "metadata": {},
   "outputs": [],
   "source": [
    "import wikipediaapi"
   ]
  },
  {
   "cell_type": "code",
   "execution_count": 2,
   "id": "3c289318",
   "metadata": {},
   "outputs": [],
   "source": [
    "import wikipedia\n",
    "import warnings\n",
    "warnings.filterwarnings(action=\"ignore\")\n"
   ]
  },
  {
   "cell_type": "code",
   "execution_count": 3,
   "id": "25293af6",
   "metadata": {},
   "outputs": [],
   "source": [
    "wiki_wiki = wikipediaapi.Wikipedia(\n",
    "        language='en',\n",
    "        extract_format=wikipediaapi.ExtractFormat.WIKI\n",
    ")"
   ]
  },
  {
   "cell_type": "code",
   "execution_count": 4,
   "id": "7bb9fb2a",
   "metadata": {},
   "outputs": [],
   "source": [
    "fmathematics={}\n",
    "for items in wikipedia.search('Mathematics', results=500):\n",
    "         fmathematics[items]= wiki_wiki.page(items).text"
   ]
  },
  {
   "cell_type": "code",
   "execution_count": 5,
   "id": "b3f96f4a",
   "metadata": {},
   "outputs": [],
   "source": [
    "fpolitics={}\n",
    "for items in wikipedia.search('Politics', results=500):\n",
    "         fpolitics[items]= wiki_wiki.page(items).text"
   ]
  },
  {
   "cell_type": "code",
   "execution_count": 6,
   "id": "aa37daa7",
   "metadata": {},
   "outputs": [],
   "source": [
    "fsports={}\n",
    "for items in wikipedia.search('sports', results=500):\n",
    "         fsports[items]= wiki_wiki.page(items).text"
   ]
  },
  {
   "cell_type": "code",
   "execution_count": 7,
   "id": "4d83c735",
   "metadata": {},
   "outputs": [],
   "source": [
    "fhealth={}\n",
    "for items in wikipedia.search('health', results=500):\n",
    "         fhealth[items]= wiki_wiki.page(items).text"
   ]
  },
  {
   "cell_type": "code",
   "execution_count": 8,
   "id": "36ef8815",
   "metadata": {},
   "outputs": [],
   "source": [
    "fhistory={}\n",
    "for items in wikipedia.search('history', results=500):\n",
    "         fhistory[items]= wiki_wiki.page(items).text"
   ]
  },
  {
   "cell_type": "code",
   "execution_count": 9,
   "id": "22e7e09d",
   "metadata": {},
   "outputs": [],
   "source": [
    "fgeography={}\n",
    "for items in wikipedia.search('geography', results=500):\n",
    "         fgeography[items]= wiki_wiki.page(items).text"
   ]
  },
  {
   "cell_type": "code",
   "execution_count": 10,
   "id": "7e2c2252",
   "metadata": {},
   "outputs": [],
   "source": [
    "farts={}\n",
    "for items in wikipedia.search('arts', results=500):\n",
    "         farts[items]= wiki_wiki.page(items).text"
   ]
  },
  {
   "cell_type": "code",
   "execution_count": 11,
   "id": "e6ae2e69",
   "metadata": {},
   "outputs": [],
   "source": [
    "ftechnology={}\n",
    "for items in wikipedia.search('technology', results=500):\n",
    "         ftechnology[items]= wiki_wiki.page(items).text"
   ]
  },
  {
   "cell_type": "code",
   "execution_count": 12,
   "id": "d37f8fd3",
   "metadata": {},
   "outputs": [],
   "source": [
    "import pandas as pd\n",
    "\n",
    "data1=pd.DataFrame.from_dict(fmathematics,orient='index')\n",
    "data2=pd.DataFrame.from_dict(fpolitics,orient='index')\n",
    "data3=pd.DataFrame.from_dict(fsports,orient='index')\n",
    "data4=pd.DataFrame.from_dict(fhealth,orient='index')\n",
    "data5=pd.DataFrame.from_dict(fhistory,orient='index')\n",
    "data6=pd.DataFrame.from_dict(fgeography,orient='index')\n",
    "data7=pd.DataFrame.from_dict(farts,orient='index')\n",
    "data8=pd.DataFrame.from_dict(ftechnology,orient='index')\n"
   ]
  },
  {
   "cell_type": "code",
   "execution_count": 13,
   "id": "9a8a54c0",
   "metadata": {},
   "outputs": [],
   "source": [
    "data1=pd.DataFrame(fmathematics.items(), columns=['Category', 'Page Text'])"
   ]
  },
  {
   "cell_type": "code",
   "execution_count": 14,
   "id": "d3bb5381",
   "metadata": {},
   "outputs": [],
   "source": [
    "data2=pd.DataFrame(fpolitics.items(), columns=['Category', 'Page Text'])\n",
    "data3=pd.DataFrame(fsports.items(), columns=['Category', 'Page Text'])\n",
    "data4=pd.DataFrame(fhealth.items(), columns=['Category', 'Page Text'])\n",
    "data5=pd.DataFrame(fhistory.items(), columns=['Category', 'Page Text'])\n",
    "data6=pd.DataFrame(fgeography.items(), columns=['Category', 'Page Text'])\n",
    "data7=pd.DataFrame(farts.items(), columns=['Category', 'Page Text'])\n",
    "data8=pd.DataFrame(ftechnology.items(), columns=['Category', 'Page Text'])\n",
    "\n"
   ]
  },
  {
   "cell_type": "code",
   "execution_count": 15,
   "id": "f40a2eb2",
   "metadata": {},
   "outputs": [
    {
     "data": {
      "text/html": [
       "<div>\n",
       "<style scoped>\n",
       "    .dataframe tbody tr th:only-of-type {\n",
       "        vertical-align: middle;\n",
       "    }\n",
       "\n",
       "    .dataframe tbody tr th {\n",
       "        vertical-align: top;\n",
       "    }\n",
       "\n",
       "    .dataframe thead th {\n",
       "        text-align: right;\n",
       "    }\n",
       "</style>\n",
       "<table border=\"1\" class=\"dataframe\">\n",
       "  <thead>\n",
       "    <tr style=\"text-align: right;\">\n",
       "      <th></th>\n",
       "      <th>Category</th>\n",
       "      <th>Page Text</th>\n",
       "    </tr>\n",
       "  </thead>\n",
       "  <tbody>\n",
       "    <tr>\n",
       "      <th>0</th>\n",
       "      <td>Mathematics</td>\n",
       "      <td>Mathematics (from Ancient Greek  μάθημα; máthē...</td>\n",
       "    </tr>\n",
       "    <tr>\n",
       "      <th>1</th>\n",
       "      <td>Discrete mathematics</td>\n",
       "      <td>Discrete mathematics is the study of mathemati...</td>\n",
       "    </tr>\n",
       "    <tr>\n",
       "      <th>2</th>\n",
       "      <td>Function (mathematics)</td>\n",
       "      <td>In mathematics, a function from a set X to a s...</td>\n",
       "    </tr>\n",
       "    <tr>\n",
       "      <th>3</th>\n",
       "      <td>Pure mathematics</td>\n",
       "      <td>Pure mathematics is the study of mathematical ...</td>\n",
       "    </tr>\n",
       "    <tr>\n",
       "      <th>4</th>\n",
       "      <td>Matrix (mathematics)</td>\n",
       "      <td>In mathematics, a matrix (plural matrices) is ...</td>\n",
       "    </tr>\n",
       "    <tr>\n",
       "      <th>...</th>\n",
       "      <td>...</td>\n",
       "      <td>...</td>\n",
       "    </tr>\n",
       "    <tr>\n",
       "      <th>495</th>\n",
       "      <td>Pythagorean theorem</td>\n",
       "      <td>In mathematics, the Pythagorean theorem, or Py...</td>\n",
       "    </tr>\n",
       "    <tr>\n",
       "      <th>496</th>\n",
       "      <td>List of continuity-related mathematical topics</td>\n",
       "      <td>In mathematics, the terms continuity, continuo...</td>\n",
       "    </tr>\n",
       "    <tr>\n",
       "      <th>497</th>\n",
       "      <td>Theorem</td>\n",
       "      <td>In mathematics, a theorem is a statement that ...</td>\n",
       "    </tr>\n",
       "    <tr>\n",
       "      <th>498</th>\n",
       "      <td>Golden ratio</td>\n",
       "      <td>In mathematics, two quantities are in the gold...</td>\n",
       "    </tr>\n",
       "    <tr>\n",
       "      <th>499</th>\n",
       "      <td>Harmonic (mathematics)</td>\n",
       "      <td>In mathematics, a number of concepts employ th...</td>\n",
       "    </tr>\n",
       "  </tbody>\n",
       "</table>\n",
       "<p>500 rows × 2 columns</p>\n",
       "</div>"
      ],
      "text/plain": [
       "                                           Category  \\\n",
       "0                                       Mathematics   \n",
       "1                              Discrete mathematics   \n",
       "2                            Function (mathematics)   \n",
       "3                                  Pure mathematics   \n",
       "4                              Matrix (mathematics)   \n",
       "..                                              ...   \n",
       "495                             Pythagorean theorem   \n",
       "496  List of continuity-related mathematical topics   \n",
       "497                                         Theorem   \n",
       "498                                    Golden ratio   \n",
       "499                          Harmonic (mathematics)   \n",
       "\n",
       "                                             Page Text  \n",
       "0    Mathematics (from Ancient Greek  μάθημα; máthē...  \n",
       "1    Discrete mathematics is the study of mathemati...  \n",
       "2    In mathematics, a function from a set X to a s...  \n",
       "3    Pure mathematics is the study of mathematical ...  \n",
       "4    In mathematics, a matrix (plural matrices) is ...  \n",
       "..                                                 ...  \n",
       "495  In mathematics, the Pythagorean theorem, or Py...  \n",
       "496  In mathematics, the terms continuity, continuo...  \n",
       "497  In mathematics, a theorem is a statement that ...  \n",
       "498  In mathematics, two quantities are in the gold...  \n",
       "499  In mathematics, a number of concepts employ th...  \n",
       "\n",
       "[500 rows x 2 columns]"
      ]
     },
     "execution_count": 15,
     "metadata": {},
     "output_type": "execute_result"
    }
   ],
   "source": [
    "data1"
   ]
  },
  {
   "cell_type": "code",
   "execution_count": 16,
   "id": "4c1f1a26",
   "metadata": {},
   "outputs": [],
   "source": [
    "data1 = data1.assign(Category='Mathematics')"
   ]
  },
  {
   "cell_type": "code",
   "execution_count": 17,
   "id": "d70ac838",
   "metadata": {},
   "outputs": [],
   "source": [
    "data2 = data2.assign(Category='Politics')\n",
    "data3 = data3.assign(Category='Sports')\n",
    "data4 = data4.assign(Category='Health')\n",
    "data5 = data5.assign(Category='History')\n",
    "data6 = data6.assign(Category='Geography')\n",
    "data7 = data7.assign(Category='Arts')\n",
    "data8 = data8.assign(Category='Technology')\n",
    "\n"
   ]
  },
  {
   "cell_type": "code",
   "execution_count": 18,
   "id": "b25a81cb",
   "metadata": {},
   "outputs": [
    {
     "data": {
      "text/html": [
       "<div>\n",
       "<style scoped>\n",
       "    .dataframe tbody tr th:only-of-type {\n",
       "        vertical-align: middle;\n",
       "    }\n",
       "\n",
       "    .dataframe tbody tr th {\n",
       "        vertical-align: top;\n",
       "    }\n",
       "\n",
       "    .dataframe thead th {\n",
       "        text-align: right;\n",
       "    }\n",
       "</style>\n",
       "<table border=\"1\" class=\"dataframe\">\n",
       "  <thead>\n",
       "    <tr style=\"text-align: right;\">\n",
       "      <th></th>\n",
       "      <th>Category</th>\n",
       "      <th>Page Text</th>\n",
       "    </tr>\n",
       "  </thead>\n",
       "  <tbody>\n",
       "    <tr>\n",
       "      <th>0</th>\n",
       "      <td>Mathematics</td>\n",
       "      <td>Mathematics (from Ancient Greek  μάθημα; máthē...</td>\n",
       "    </tr>\n",
       "    <tr>\n",
       "      <th>1</th>\n",
       "      <td>Mathematics</td>\n",
       "      <td>Discrete mathematics is the study of mathemati...</td>\n",
       "    </tr>\n",
       "    <tr>\n",
       "      <th>2</th>\n",
       "      <td>Mathematics</td>\n",
       "      <td>In mathematics, a function from a set X to a s...</td>\n",
       "    </tr>\n",
       "    <tr>\n",
       "      <th>3</th>\n",
       "      <td>Mathematics</td>\n",
       "      <td>Pure mathematics is the study of mathematical ...</td>\n",
       "    </tr>\n",
       "    <tr>\n",
       "      <th>4</th>\n",
       "      <td>Mathematics</td>\n",
       "      <td>In mathematics, a matrix (plural matrices) is ...</td>\n",
       "    </tr>\n",
       "    <tr>\n",
       "      <th>...</th>\n",
       "      <td>...</td>\n",
       "      <td>...</td>\n",
       "    </tr>\n",
       "    <tr>\n",
       "      <th>495</th>\n",
       "      <td>Mathematics</td>\n",
       "      <td>In mathematics, the Pythagorean theorem, or Py...</td>\n",
       "    </tr>\n",
       "    <tr>\n",
       "      <th>496</th>\n",
       "      <td>Mathematics</td>\n",
       "      <td>In mathematics, the terms continuity, continuo...</td>\n",
       "    </tr>\n",
       "    <tr>\n",
       "      <th>497</th>\n",
       "      <td>Mathematics</td>\n",
       "      <td>In mathematics, a theorem is a statement that ...</td>\n",
       "    </tr>\n",
       "    <tr>\n",
       "      <th>498</th>\n",
       "      <td>Mathematics</td>\n",
       "      <td>In mathematics, two quantities are in the gold...</td>\n",
       "    </tr>\n",
       "    <tr>\n",
       "      <th>499</th>\n",
       "      <td>Mathematics</td>\n",
       "      <td>In mathematics, a number of concepts employ th...</td>\n",
       "    </tr>\n",
       "  </tbody>\n",
       "</table>\n",
       "<p>500 rows × 2 columns</p>\n",
       "</div>"
      ],
      "text/plain": [
       "        Category                                          Page Text\n",
       "0    Mathematics  Mathematics (from Ancient Greek  μάθημα; máthē...\n",
       "1    Mathematics  Discrete mathematics is the study of mathemati...\n",
       "2    Mathematics  In mathematics, a function from a set X to a s...\n",
       "3    Mathematics  Pure mathematics is the study of mathematical ...\n",
       "4    Mathematics  In mathematics, a matrix (plural matrices) is ...\n",
       "..           ...                                                ...\n",
       "495  Mathematics  In mathematics, the Pythagorean theorem, or Py...\n",
       "496  Mathematics  In mathematics, the terms continuity, continuo...\n",
       "497  Mathematics  In mathematics, a theorem is a statement that ...\n",
       "498  Mathematics  In mathematics, two quantities are in the gold...\n",
       "499  Mathematics  In mathematics, a number of concepts employ th...\n",
       "\n",
       "[500 rows x 2 columns]"
      ]
     },
     "execution_count": 18,
     "metadata": {},
     "output_type": "execute_result"
    }
   ],
   "source": [
    "data1\n"
   ]
  },
  {
   "cell_type": "code",
   "execution_count": 19,
   "id": "c8c2fe4c",
   "metadata": {},
   "outputs": [],
   "source": [
    "frames = [data1, data2, data3, data4, data5, data6, data7, data8]"
   ]
  },
  {
   "cell_type": "code",
   "execution_count": 20,
   "id": "64d86d7e",
   "metadata": {},
   "outputs": [],
   "source": [
    "fdata = pd.concat(frames,ignore_index=True)"
   ]
  },
  {
   "cell_type": "code",
   "execution_count": 21,
   "id": "62783f9d",
   "metadata": {},
   "outputs": [
    {
     "data": {
      "text/plain": [
       "4000"
      ]
     },
     "execution_count": 21,
     "metadata": {},
     "output_type": "execute_result"
    }
   ],
   "source": [
    "fdata.shape[0]"
   ]
  },
  {
   "cell_type": "code",
   "execution_count": 22,
   "id": "e53a7016",
   "metadata": {},
   "outputs": [
    {
     "data": {
      "text/html": [
       "<div>\n",
       "<style scoped>\n",
       "    .dataframe tbody tr th:only-of-type {\n",
       "        vertical-align: middle;\n",
       "    }\n",
       "\n",
       "    .dataframe tbody tr th {\n",
       "        vertical-align: top;\n",
       "    }\n",
       "\n",
       "    .dataframe thead th {\n",
       "        text-align: right;\n",
       "    }\n",
       "</style>\n",
       "<table border=\"1\" class=\"dataframe\">\n",
       "  <thead>\n",
       "    <tr style=\"text-align: right;\">\n",
       "      <th></th>\n",
       "      <th>Category</th>\n",
       "      <th>Page Text</th>\n",
       "    </tr>\n",
       "  </thead>\n",
       "  <tbody>\n",
       "    <tr>\n",
       "      <th>0</th>\n",
       "      <td>Mathematics</td>\n",
       "      <td>Mathematics (from Ancient Greek  μάθημα; máthē...</td>\n",
       "    </tr>\n",
       "    <tr>\n",
       "      <th>1</th>\n",
       "      <td>Mathematics</td>\n",
       "      <td>Discrete mathematics is the study of mathemati...</td>\n",
       "    </tr>\n",
       "    <tr>\n",
       "      <th>2</th>\n",
       "      <td>Mathematics</td>\n",
       "      <td>In mathematics, a function from a set X to a s...</td>\n",
       "    </tr>\n",
       "    <tr>\n",
       "      <th>3</th>\n",
       "      <td>Mathematics</td>\n",
       "      <td>Pure mathematics is the study of mathematical ...</td>\n",
       "    </tr>\n",
       "    <tr>\n",
       "      <th>4</th>\n",
       "      <td>Mathematics</td>\n",
       "      <td>In mathematics, a matrix (plural matrices) is ...</td>\n",
       "    </tr>\n",
       "    <tr>\n",
       "      <th>...</th>\n",
       "      <td>...</td>\n",
       "      <td>...</td>\n",
       "    </tr>\n",
       "    <tr>\n",
       "      <th>3995</th>\n",
       "      <td>Technology</td>\n",
       "      <td>Imaging is the representation or reproduction ...</td>\n",
       "    </tr>\n",
       "    <tr>\n",
       "      <th>3996</th>\n",
       "      <td>Technology</td>\n",
       "      <td>University of Science &amp; Technology Chittagong ...</td>\n",
       "    </tr>\n",
       "    <tr>\n",
       "      <th>3997</th>\n",
       "      <td>Technology</td>\n",
       "      <td>Master/slave is a model of asymmetric communic...</td>\n",
       "    </tr>\n",
       "    <tr>\n",
       "      <th>3998</th>\n",
       "      <td>Technology</td>\n",
       "      <td>The Helsinki University of Technology (TKK; Fi...</td>\n",
       "    </tr>\n",
       "    <tr>\n",
       "      <th>3999</th>\n",
       "      <td>Technology</td>\n",
       "      <td>Resolution enhancement technology (RET) is a f...</td>\n",
       "    </tr>\n",
       "  </tbody>\n",
       "</table>\n",
       "<p>4000 rows × 2 columns</p>\n",
       "</div>"
      ],
      "text/plain": [
       "         Category                                          Page Text\n",
       "0     Mathematics  Mathematics (from Ancient Greek  μάθημα; máthē...\n",
       "1     Mathematics  Discrete mathematics is the study of mathemati...\n",
       "2     Mathematics  In mathematics, a function from a set X to a s...\n",
       "3     Mathematics  Pure mathematics is the study of mathematical ...\n",
       "4     Mathematics  In mathematics, a matrix (plural matrices) is ...\n",
       "...           ...                                                ...\n",
       "3995   Technology  Imaging is the representation or reproduction ...\n",
       "3996   Technology  University of Science & Technology Chittagong ...\n",
       "3997   Technology  Master/slave is a model of asymmetric communic...\n",
       "3998   Technology  The Helsinki University of Technology (TKK; Fi...\n",
       "3999   Technology  Resolution enhancement technology (RET) is a f...\n",
       "\n",
       "[4000 rows x 2 columns]"
      ]
     },
     "execution_count": 22,
     "metadata": {},
     "output_type": "execute_result"
    }
   ],
   "source": [
    "fdata"
   ]
  },
  {
   "cell_type": "code",
   "execution_count": 23,
   "id": "f3a4e3b3",
   "metadata": {},
   "outputs": [],
   "source": [
    "fdata.to_csv('wikidata.csv',index= 'False',encoding='utf-8')"
   ]
  },
  {
   "cell_type": "code",
   "execution_count": 24,
   "id": "4a853192",
   "metadata": {},
   "outputs": [
    {
     "data": {
      "text/plain": [
       "'In mathematics, a group is a set and an operation that combines any two elements of the set to produce a third element of the set, in such a way that the operation is associative, an identity element exists and every element has an inverse. These three axioms hold for number systems and many other mathematical structures. For example, the integers together with the addition operation form a group. The concept of a group and the axioms that define it was elaborated for handling, in a unified way, essential structural properties of very different mathematical entities such as numbers, geometric shapes and polynomial roots. Because the concept of groups is ubiquitous in numerous areas both within and outside mathematics, some authors consider it as a central organizing principle of contemporary mathematics.In geometry groups arise naturally in the study of symmetries and geometric transformations: The symmetries of an object form a group, called the symmetry group of the object, and the transformations of a given type form a general group. Lie groups appear in  symmetry groups in geometry, and also in the Standard Model of particle physics. The Poincaré group is a Lie group consisting of the symmetries of spacetime in special relativity. Point groups describe symmetry in molecular chemistry.\\nThe concept of a group arose in the study of polynomial equations, starting with Évariste Galois in the 1830s, who introduced the term group (French: groupe) for the symmetry group of the roots of an equation, now called a Galois group. After contributions from other fields such as number theory and geometry, the group notion was generalized and firmly established around 1870. Modern group theory—an active mathematical discipline—studies groups in their own right. To explore groups, mathematicians have devised various notions to break groups into smaller, better-understandable pieces, such as subgroups, quotient groups and simple groups. In addition to their abstract properties, group theorists also study the different ways in which a group can be expressed concretely, both from a point of view of representation theory (that is, through the representations of the group) and of computational group theory. A theory has been developed for finite groups, which culminated with the classification of finite simple groups, completed in 2004. Since the mid-1980s, geometric group theory, which studies finitely generated groups as geometric objects, has become an active area in group theory.\\n\\nDefinition and illustration\\nFirst example: the integers\\nOne of the more familiar groups is the set of integers \\n\\ntogether with addition. For any two integers \\n  \\n    \\n      \\n        a\\n      \\n    \\n    {\\\\displaystyle a}\\n   and \\n  \\n    \\n      \\n        b\\n      \\n    \\n    {\\\\displaystyle b}\\n  , the sum \\n  \\n    \\n      \\n        a\\n        +\\n        b\\n      \\n    \\n    {\\\\displaystyle a+b}\\n   is also an integer; this closure property says that \\n  \\n    \\n      \\n        +\\n      \\n    \\n    {\\\\displaystyle +}\\n   is a binary operation on \\n  \\n    \\n      \\n        \\n          Z\\n        \\n      \\n    \\n    {\\\\displaystyle \\\\mathbb {Z} }\\n  . The following properties of integer addition serve as a model for the group axioms in the definition below.\\n\\nFor all integers \\n  \\n    \\n      \\n        a\\n      \\n    \\n    {\\\\displaystyle a}\\n  , \\n  \\n    \\n      \\n        b\\n      \\n    \\n    {\\\\displaystyle b}\\n   and \\n  \\n    \\n      \\n        c\\n      \\n    \\n    {\\\\displaystyle c}\\n  , one has \\n  \\n    \\n      \\n        (\\n        a\\n        +\\n        b\\n        )\\n        +\\n        c\\n        =\\n        a\\n        +\\n        (\\n        b\\n        +\\n        c\\n        )\\n      \\n    \\n    {\\\\displaystyle (a+b)+c=a+(b+c)}\\n  . Expressed in words, adding \\n  \\n    \\n      \\n        a\\n      \\n    \\n    {\\\\displaystyle a}\\n   to \\n  \\n    \\n      \\n        b\\n      \\n    \\n    {\\\\displaystyle b}\\n   first, and then adding the result to \\n  \\n    \\n      \\n        c\\n      \\n    \\n    {\\\\displaystyle c}\\n   gives the same final result as adding \\n  \\n    \\n      \\n        a\\n      \\n    \\n    {\\\\displaystyle a}\\n   to the sum of \\n  \\n    \\n      \\n        b\\n      \\n    \\n    {\\\\displaystyle b}\\n   and \\n  \\n    \\n      \\n        c\\n      \\n    \\n    {\\\\displaystyle c}\\n  . This property is known as associativity.\\nIf \\n  \\n    \\n      \\n        a\\n      \\n    \\n    {\\\\displaystyle a}\\n   is any integer, then \\n  \\n    \\n      \\n        0\\n        +\\n        a\\n        =\\n        a\\n      \\n    \\n    {\\\\displaystyle 0+a=a}\\n   and \\n  \\n    \\n      \\n        a\\n        +\\n        0\\n        =\\n        a\\n      \\n    \\n    {\\\\displaystyle a+0=a}\\n  . Zero is called the identity element of addition because adding it to any integer returns the same integer.\\nFor every integer \\n  \\n    \\n      \\n        a\\n      \\n    \\n    {\\\\displaystyle a}\\n  , there is an integer \\n  \\n    \\n      \\n        b\\n      \\n    \\n    {\\\\displaystyle b}\\n   such that \\n  \\n    \\n      \\n        a\\n        +\\n        b\\n        =\\n        0\\n      \\n    \\n    {\\\\displaystyle a+b=0}\\n   and \\n  \\n    \\n      \\n        b\\n        +\\n        a\\n        =\\n        0\\n      \\n    \\n    {\\\\displaystyle b+a=0}\\n  . The integer \\n  \\n    \\n      \\n        b\\n      \\n    \\n    {\\\\displaystyle b}\\n   is called the inverse element of the integer \\n  \\n    \\n      \\n        a\\n      \\n    \\n    {\\\\displaystyle a}\\n   and is denoted \\n  \\n    \\n      \\n        −\\n        a\\n      \\n    \\n    {\\\\displaystyle -a}\\n  .The integers, together with the operation \\n  \\n    \\n      \\n        +\\n      \\n    \\n    {\\\\displaystyle +}\\n  , form a mathematical object belonging to a broad class sharing similar structural aspects. To appropriately understand these structures as a collective, the following definition is developed.\\n\\nDefinition\\nA group is a set \\n  \\n    \\n      \\n        G\\n      \\n    \\n    {\\\\displaystyle G}\\n   together with a binary operation on \\n  \\n    \\n      \\n        G\\n      \\n    \\n    {\\\\displaystyle G}\\n  , here denoted \"\\n  \\n    \\n      \\n        ⋅\\n      \\n    \\n    {\\\\displaystyle \\\\cdot }\\n  \", that combines any two elements \\n  \\n    \\n      \\n        a\\n      \\n    \\n    {\\\\displaystyle a}\\n   and \\n  \\n    \\n      \\n        b\\n      \\n    \\n    {\\\\displaystyle b}\\n   to form an element of \\n  \\n    \\n      \\n        G\\n      \\n    \\n    {\\\\displaystyle G}\\n  , denoted \\n  \\n    \\n      \\n        a\\n        ⋅\\n        b\\n      \\n    \\n    {\\\\displaystyle a\\\\cdot b}\\n  , such that the following three requirements, known as group axioms, are satisfied:\\nAssociativity\\nFor all \\n  \\n    \\n      \\n        a\\n      \\n    \\n    {\\\\displaystyle a}\\n  , \\n  \\n    \\n      \\n        b\\n      \\n    \\n    {\\\\displaystyle b}\\n  , \\n  \\n    \\n      \\n        c\\n      \\n    \\n    {\\\\displaystyle c}\\n   in \\n  \\n    \\n      \\n        G\\n      \\n    \\n    {\\\\displaystyle G}\\n  , one has \\n  \\n    \\n      \\n        (\\n        a\\n        ⋅\\n        b\\n        )\\n        ⋅\\n        c\\n        =\\n        a\\n        ⋅\\n        (\\n        b\\n        ⋅\\n        c\\n        )\\n      \\n    \\n    {\\\\displaystyle (a\\\\cdot b)\\\\cdot c=a\\\\cdot (b\\\\cdot c)}\\n  .\\nIdentity element\\nThere exists an element \\n  \\n    \\n      \\n        e\\n      \\n    \\n    {\\\\displaystyle e}\\n   in \\n  \\n    \\n      \\n        G\\n      \\n    \\n    {\\\\displaystyle G}\\n   such that, for every \\n  \\n    \\n      \\n        a\\n      \\n    \\n    {\\\\displaystyle a}\\n   in \\n  \\n    \\n      \\n        G\\n      \\n    \\n    {\\\\displaystyle G}\\n  , one has \\n  \\n    \\n      \\n        e\\n        ⋅\\n        a\\n        =\\n        a\\n      \\n    \\n    {\\\\displaystyle e\\\\cdot a=a}\\n   and \\n  \\n    \\n      \\n        a\\n        ⋅\\n        e\\n        =\\n        a\\n      \\n    \\n    {\\\\displaystyle a\\\\cdot e=a}\\n  .\\nSuch an element is unique (see below). It is called the identity element of the group.\\nInverse element\\nFor each \\n  \\n    \\n      \\n        a\\n      \\n    \\n    {\\\\displaystyle a}\\n   in \\n  \\n    \\n      \\n        G\\n      \\n    \\n    {\\\\displaystyle G}\\n  , there exists an element \\n  \\n    \\n      \\n        b\\n      \\n    \\n    {\\\\displaystyle b}\\n   in \\n  \\n    \\n      \\n        G\\n      \\n    \\n    {\\\\displaystyle G}\\n   such that \\n  \\n    \\n      \\n        a\\n        ⋅\\n        b\\n        =\\n        e\\n      \\n    \\n    {\\\\displaystyle a\\\\cdot b=e}\\n   and \\n  \\n    \\n      \\n        b\\n        ⋅\\n        a\\n        =\\n        e\\n      \\n    \\n    {\\\\displaystyle b\\\\cdot a=e}\\n  , where \\n  \\n    \\n      \\n        e\\n      \\n    \\n    {\\\\displaystyle e}\\n   is the identity element.\\nFor each \\n  \\n    \\n      \\n        a\\n      \\n    \\n    {\\\\displaystyle a}\\n  , the element \\n  \\n    \\n      \\n        b\\n      \\n    \\n    {\\\\displaystyle b}\\n   is unique (see below); it is called the inverse of \\n  \\n    \\n      \\n        a\\n      \\n    \\n    {\\\\displaystyle a}\\n   and is commonly denoted \\n  \\n    \\n      \\n        \\n          a\\n          \\n            −\\n            1\\n          \\n        \\n      \\n    \\n    {\\\\displaystyle a^{-1}}\\n  .\\n\\nNotation and terminology\\nFormally, the group is the ordered pair of a set and a binary operation on this set that satisfies the group axioms. The set is called the underlying set of the group, and the operation is called the group operation or the group law.\\nA group and its underlying set are thus two different mathematical objects. To avoid cumbersome notation, it is common to abuse notation by using the same symbol to denote both. This reflects also an informal way of thinking: that the group is the same as the set except that it has been enriched by additional structure provided by the operation.\\nFor example, consider the set of real numbers \\n  \\n    \\n      \\n        \\n          R\\n        \\n      \\n    \\n    {\\\\displaystyle \\\\mathbb {R} }\\n  , which has the operations of addition \\n  \\n    \\n      \\n        a\\n        +\\n        b\\n      \\n    \\n    {\\\\displaystyle a+b}\\n   and multiplication \\n  \\n    \\n      \\n        a\\n        b\\n      \\n    \\n    {\\\\displaystyle ab}\\n  . Formally, \\n  \\n    \\n      \\n        \\n          R\\n        \\n      \\n    \\n    {\\\\displaystyle \\\\mathbb {R} }\\n   is a set, \\n  \\n    \\n      \\n        (\\n        \\n          R\\n        \\n        ,\\n        +\\n        )\\n      \\n    \\n    {\\\\displaystyle (\\\\mathbb {R} ,+)}\\n   is a group, and \\n  \\n    \\n      \\n        (\\n        \\n          R\\n        \\n        ,\\n        +\\n        ,\\n        ⋅\\n        )\\n      \\n    \\n    {\\\\displaystyle (\\\\mathbb {R} ,+,\\\\cdot )}\\n   is a field. But it is common to write \\n  \\n    \\n      \\n        \\n          R\\n        \\n      \\n    \\n    {\\\\displaystyle \\\\mathbb {R} }\\n   to denote any of these three objects.\\nThe additive group of the field \\n  \\n    \\n      \\n        \\n          R\\n        \\n      \\n    \\n    {\\\\displaystyle \\\\mathbb {R} }\\n   is the group whose underlying set is \\n  \\n    \\n      \\n        \\n          R\\n        \\n      \\n    \\n    {\\\\displaystyle \\\\mathbb {R} }\\n   and whose operation is addition. The multiplicative group of the field \\n  \\n    \\n      \\n        \\n          R\\n        \\n      \\n    \\n    {\\\\displaystyle \\\\mathbb {R} }\\n   is the group \\n  \\n    \\n      \\n        \\n          \\n            R\\n          \\n          \\n            ×\\n          \\n        \\n      \\n    \\n    {\\\\displaystyle \\\\mathbb {R} ^{\\\\times }}\\n   whose underlying set is the set of nonzero real numbers \\n  \\n    \\n      \\n        \\n          R\\n        \\n        ∖\\n        {\\n        0\\n        }\\n      \\n    \\n    {\\\\displaystyle \\\\mathbb {R} \\\\smallsetminus \\\\{0\\\\}}\\n   and whose operation is multiplication.\\nMore generally, one speaks of an additive group whenever the group operation is notated as addition; in this case, the identity is typically denoted \\n  \\n    \\n      \\n        0\\n      \\n    \\n    {\\\\displaystyle 0}\\n  , and the inverse of an element \\n  \\n    \\n      \\n        x\\n      \\n    \\n    {\\\\displaystyle x}\\n   is denoted \\n  \\n    \\n      \\n        −\\n        x\\n      \\n    \\n    {\\\\displaystyle -x}\\n  . Similarly, one speaks of a multiplicative group whenever the group operation is notated as multiplication; in this case, the identity is typically denoted \\n  \\n    \\n      \\n        1\\n      \\n    \\n    {\\\\displaystyle 1}\\n  , and the inverse of an element \\n  \\n    \\n      \\n        x\\n      \\n    \\n    {\\\\displaystyle x}\\n   is denoted \\n  \\n    \\n      \\n        \\n          x\\n          \\n            −\\n            1\\n          \\n        \\n      \\n    \\n    {\\\\displaystyle x^{-1}}\\n  . In a multiplicative group, the operation symbol is usually omitted entirely, so that the operation is denoted by juxtaposition, \\n  \\n    \\n      \\n        a\\n        b\\n      \\n    \\n    {\\\\displaystyle ab}\\n   instead of \\n  \\n    \\n      \\n        a\\n        ⋅\\n        b\\n      \\n    \\n    {\\\\displaystyle a\\\\cdot b}\\n  .\\nThe definition of a group does not require that \\n  \\n    \\n      \\n        a\\n        ⋅\\n        b\\n        =\\n        b\\n        ⋅\\n        a\\n      \\n    \\n    {\\\\displaystyle a\\\\cdot b=b\\\\cdot a}\\n   for all elements \\n  \\n    \\n      \\n        a\\n      \\n    \\n    {\\\\displaystyle a}\\n   and \\n  \\n    \\n      \\n        b\\n      \\n    \\n    {\\\\displaystyle b}\\n   in \\n  \\n    \\n      \\n        G\\n      \\n    \\n    {\\\\displaystyle G}\\n  . If this additional condition holds, then the operation is said to be commutative, and the group is called an abelian group. It is a common convention that for an abelian group either additive or multiplicative notation may be used, but for a nonabelian group only multiplicative notation is used.\\nSeveral other notations are commonly used for groups whose elements are not numbers. For a group whose elements are functions, the operation is often function composition \\n  \\n    \\n      \\n        f\\n        ∘\\n        g\\n      \\n    \\n    {\\\\displaystyle f\\\\circ g}\\n  ; then the identity may be denoted id. In the more specific cases of geometric transformation groups, symmetry groups, permutation groups, and automorphism groups, the symbol \\n  \\n    \\n      \\n        ∘\\n      \\n    \\n    {\\\\displaystyle \\\\circ }\\n   is often omitted, as for multiplicative groups. Many other variants of notation may be encountered.\\n\\nSecond example: a symmetry group\\nTwo figures in the plane are congruent if one can be changed into the other using a combination of rotations, reflections, and translations. Any figure is congruent to itself. However, some figures are congruent to themselves in more than one way, and these extra congruences are called symmetries. A square has eight symmetries. These are:\\n\\nthe identity operation leaving everything unchanged, denoted id;\\nrotations of the square around its center by 90°, 180°, and 270° clockwise, denoted by \\n  \\n    \\n      \\n        \\n          r\\n          \\n            1\\n          \\n        \\n      \\n    \\n    {\\\\displaystyle r_{1}}\\n  , \\n  \\n    \\n      \\n        \\n          r\\n          \\n            2\\n          \\n        \\n      \\n    \\n    {\\\\displaystyle r_{2}}\\n   and \\n  \\n    \\n      \\n        \\n          r\\n          \\n            3\\n          \\n        \\n      \\n    \\n    {\\\\displaystyle r_{3}}\\n  , respectively;\\nreflections about the horizontal and vertical middle line (\\n  \\n    \\n      \\n        \\n          f\\n          \\n            \\n              v\\n            \\n          \\n        \\n      \\n    \\n    {\\\\displaystyle f_{\\\\mathrm {v} }}\\n   and \\n  \\n    \\n      \\n        \\n          f\\n          \\n            \\n              h\\n            \\n          \\n        \\n      \\n    \\n    {\\\\displaystyle f_{\\\\mathrm {h} }}\\n  ), or through the two diagonals (\\n  \\n    \\n      \\n        \\n          f\\n          \\n            \\n              d\\n            \\n          \\n        \\n      \\n    \\n    {\\\\displaystyle f_{\\\\mathrm {d} }}\\n   and \\n  \\n    \\n      \\n        \\n          f\\n          \\n            \\n              c\\n            \\n          \\n        \\n      \\n    \\n    {\\\\displaystyle f_{\\\\mathrm {c} }}\\n  ).\\nThese symmetries are functions. Each sends a point in the square to the corresponding point under the symmetry. For example, \\n  \\n    \\n      \\n        \\n          r\\n          \\n            1\\n          \\n        \\n      \\n    \\n    {\\\\displaystyle r_{1}}\\n   sends a point to its rotation 90° clockwise around the square\\'s center, and \\n  \\n    \\n      \\n        \\n          f\\n          \\n            \\n              h\\n            \\n          \\n        \\n      \\n    \\n    {\\\\displaystyle f_{\\\\mathrm {h} }}\\n   sends a point to its reflection across the square\\'s vertical middle line. Composing two of these symmetries gives another symmetry. These symmetries determine a group called the dihedral group of degree four, denoted \\n  \\n    \\n      \\n        \\n          \\n            D\\n          \\n          \\n            4\\n          \\n        \\n      \\n    \\n    {\\\\displaystyle \\\\mathrm {D} _{4}}\\n  . The underlying set of the group is the above set of symmetries, and the group operation is function composition. Two symmetries are combined by composing them as functions, that is, applying the first one to the square, and the second one to the result of the first application. The result of performing first \\n  \\n    \\n      \\n        a\\n      \\n    \\n    {\\\\displaystyle a}\\n   and then \\n  \\n    \\n      \\n        b\\n      \\n    \\n    {\\\\displaystyle b}\\n   is written symbolically from right to left as \\n  \\n    \\n      \\n        b\\n        ∘\\n        a\\n      \\n    \\n    {\\\\displaystyle b\\\\circ a}\\n   (\"apply the symmetry \\n  \\n    \\n      \\n        b\\n      \\n    \\n    {\\\\displaystyle b}\\n   after performing the symmetry \\n  \\n    \\n      \\n        a\\n      \\n    \\n    {\\\\displaystyle a}\\n  \"). This is the usual notation for composition of functions.\\nThe group table lists the results of all such compositions possible. For example, rotating by 270° clockwise (\\n  \\n    \\n      \\n        \\n          r\\n          \\n            3\\n          \\n        \\n      \\n    \\n    {\\\\displaystyle r_{3}}\\n  ) and then reflecting horizontally (\\n  \\n    \\n      \\n        \\n          f\\n          \\n            \\n              h\\n            \\n          \\n        \\n      \\n    \\n    {\\\\displaystyle f_{\\\\mathrm {h} }}\\n  ) is the same as performing a reflection along the diagonal (\\n  \\n    \\n      \\n        \\n          f\\n          \\n            \\n              d\\n            \\n          \\n        \\n      \\n    \\n    {\\\\displaystyle f_{\\\\mathrm {d} }}\\n  ). Using the above symbols, highlighted in blue in the group table:\\n\\nGiven this set of symmetries and the described operation, the group axioms can be understood as follows.\\nBinary operation: Composition is a binary operation. That is, \\n  \\n    \\n      \\n        a\\n        ∘\\n        b\\n      \\n    \\n    {\\\\displaystyle a\\\\circ b}\\n   is a symmetry for any two symmetries \\n  \\n    \\n      \\n        a\\n      \\n    \\n    {\\\\displaystyle a}\\n   and \\n  \\n    \\n      \\n        b\\n      \\n    \\n    {\\\\displaystyle b}\\n  . For example,\\n\\nthat is, rotating 270° clockwise after reflecting horizontally equals reflecting along the counter-diagonal (\\n  \\n    \\n      \\n        \\n          f\\n          \\n            \\n              c\\n            \\n          \\n        \\n      \\n    \\n    {\\\\displaystyle f_{\\\\mathrm {c} }}\\n  ). Indeed, every other combination of two symmetries still gives a symmetry, as can be checked using the group table.\\nAssociativity: The associativity axiom deals with composing more than two symmetries: Starting with three elements \\n  \\n    \\n      \\n        a\\n      \\n    \\n    {\\\\displaystyle a}\\n  , \\n  \\n    \\n      \\n        b\\n      \\n    \\n    {\\\\displaystyle b}\\n   and \\n  \\n    \\n      \\n        c\\n      \\n    \\n    {\\\\displaystyle c}\\n   of \\n  \\n    \\n      \\n        \\n          \\n            D\\n          \\n          \\n            4\\n          \\n        \\n      \\n    \\n    {\\\\displaystyle \\\\mathrm {D} _{4}}\\n  , there are two possible ways of using these three symmetries in this order to determine a symmetry of the square. One of these ways is to first compose \\n  \\n    \\n      \\n        a\\n      \\n    \\n    {\\\\displaystyle a}\\n   and \\n  \\n    \\n      \\n        b\\n      \\n    \\n    {\\\\displaystyle b}\\n   into a single symmetry, then to compose that symmetry with \\n  \\n    \\n      \\n        c\\n      \\n    \\n    {\\\\displaystyle c}\\n  . The other way is to first compose \\n  \\n    \\n      \\n        b\\n      \\n    \\n    {\\\\displaystyle b}\\n   and \\n  \\n    \\n      \\n        c\\n      \\n    \\n    {\\\\displaystyle c}\\n  , then to compose the resulting symmetry with \\n  \\n    \\n      \\n        a\\n      \\n    \\n    {\\\\displaystyle a}\\n  . These two ways must give always the same result, that is,\\n\\nFor example, \\n  \\n    \\n      \\n        (\\n        \\n          f\\n          \\n            \\n              d\\n            \\n          \\n        \\n        ∘\\n        \\n          f\\n          \\n            \\n              v\\n            \\n          \\n        \\n        )\\n        ∘\\n        \\n          r\\n          \\n            2\\n          \\n        \\n        =\\n        \\n          f\\n          \\n            \\n              d\\n            \\n          \\n        \\n        ∘\\n        (\\n        \\n          f\\n          \\n            \\n              v\\n            \\n          \\n        \\n        ∘\\n        \\n          r\\n          \\n            2\\n          \\n        \\n        )\\n      \\n    \\n    {\\\\displaystyle (f_{\\\\mathrm {d} }\\\\circ f_{\\\\mathrm {v} })\\\\circ r_{2}=f_{\\\\mathrm {d} }\\\\circ (f_{\\\\mathrm {v} }\\\\circ r_{2})}\\n   can be checked using the group table:\\n\\nIdentity element: The identity element is \\n  \\n    \\n      \\n        \\n          i\\n          d\\n        \\n      \\n    \\n    {\\\\displaystyle \\\\mathrm {id} }\\n  , as it does not change any symmetry \\n  \\n    \\n      \\n        a\\n      \\n    \\n    {\\\\displaystyle a}\\n   when composed with it either on the left or on the right.\\nInverse element: Each symmetry has an inverse: \\n  \\n    \\n      \\n        \\n          i\\n          d\\n        \\n      \\n    \\n    {\\\\displaystyle \\\\mathrm {id} }\\n  , the reflections \\n  \\n    \\n      \\n        \\n          f\\n          \\n            \\n              h\\n            \\n          \\n        \\n      \\n    \\n    {\\\\displaystyle f_{\\\\mathrm {h} }}\\n  , \\n  \\n    \\n      \\n        \\n          f\\n          \\n            \\n              v\\n            \\n          \\n        \\n      \\n    \\n    {\\\\displaystyle f_{\\\\mathrm {v} }}\\n  , \\n  \\n    \\n      \\n        \\n          f\\n          \\n            \\n              d\\n            \\n          \\n        \\n      \\n    \\n    {\\\\displaystyle f_{\\\\mathrm {d} }}\\n  , \\n  \\n    \\n      \\n        \\n          f\\n          \\n            \\n              c\\n            \\n          \\n        \\n      \\n    \\n    {\\\\displaystyle f_{\\\\mathrm {c} }}\\n   and the 180° rotation \\n  \\n    \\n      \\n        \\n          r\\n          \\n            2\\n          \\n        \\n      \\n    \\n    {\\\\displaystyle r_{2}}\\n   are their own inverse, because performing them twice brings the square back to its original orientation. The rotations \\n  \\n    \\n      \\n        \\n          r\\n          \\n            3\\n          \\n        \\n      \\n    \\n    {\\\\displaystyle r_{3}}\\n   and \\n  \\n    \\n      \\n        \\n          r\\n          \\n            1\\n          \\n        \\n      \\n    \\n    {\\\\displaystyle r_{1}}\\n   are each other\\'s inverses, because rotating 90° and then rotation 270° (or vice versa) yields a rotation over 360° which leaves the square unchanged. This is easily verified on the table.\\nIn contrast to the group of integers above, where the order of the operation is immaterial, it does matter in \\n  \\n    \\n      \\n        \\n          \\n            D\\n          \\n          \\n            4\\n          \\n        \\n      \\n    \\n    {\\\\displaystyle \\\\mathrm {D} _{4}}\\n  , as, for example, \\n  \\n    \\n      \\n        \\n          f\\n          \\n            \\n              h\\n            \\n          \\n        \\n        ∘\\n        \\n          r\\n          \\n            1\\n          \\n        \\n        =\\n        \\n          f\\n          \\n            \\n              c\\n            \\n          \\n        \\n      \\n    \\n    {\\\\displaystyle f_{\\\\mathrm {h} }\\\\circ r_{1}=f_{\\\\mathrm {c} }}\\n   but \\n  \\n    \\n      \\n        \\n          r\\n          \\n            1\\n          \\n        \\n        ∘\\n        \\n          f\\n          \\n            \\n              h\\n            \\n          \\n        \\n        =\\n        \\n          f\\n          \\n            \\n              d\\n            \\n          \\n        \\n      \\n    \\n    {\\\\displaystyle r_{1}\\\\circ f_{\\\\mathrm {h} }=f_{\\\\mathrm {d} }}\\n  . In other words, \\n  \\n    \\n      \\n        \\n          \\n            D\\n          \\n          \\n            4\\n          \\n        \\n      \\n    \\n    {\\\\displaystyle \\\\mathrm {D} _{4}}\\n   is not abelian.\\n\\nHistory\\nThe modern concept of an abstract group developed out of several fields of mathematics. The original motivation for group theory was the quest for solutions of polynomial equations of degree higher than 4. The 19th-century French mathematician Évariste Galois, extending prior work of Paolo Ruffini and Joseph-Louis Lagrange, gave a criterion for the solvability of a particular polynomial equation in terms of the symmetry group of its roots (solutions). The elements of such a Galois group correspond to certain permutations of the roots. At first, Galois\\'s ideas were rejected by his contemporaries, and published only posthumously. More general permutation groups were investigated in particular by Augustin Louis Cauchy. Arthur Cayley\\'s On the theory of groups, as depending on the symbolic equation \\n  \\n    \\n      \\n        \\n          θ\\n          \\n            n\\n          \\n        \\n        =\\n        1\\n      \\n    \\n    {\\\\displaystyle \\\\theta ^{n}=1}\\n   (1854) gives the first abstract definition of a finite group.Geometry was a second field in which groups were used systematically, especially symmetry groups as part of Felix Klein\\'s 1872 Erlangen program. After novel geometries such as hyperbolic and projective geometry had emerged, Klein used group theory to organize them in a more coherent way. Further advancing these ideas, Sophus Lie founded the study of Lie groups in 1884.The third field contributing to group theory was number theory. Certain abelian group structures had been used implicitly in Carl Friedrich Gauss\\'s number-theoretical work Disquisitiones Arithmeticae (1798), and more explicitly by Leopold Kronecker. In 1847, Ernst Kummer made early attempts to prove Fermat\\'s Last Theorem  by developing groups describing factorization into prime numbers.The convergence of these various sources into a uniform theory of groups started with Camille Jordan\\'s Traité des substitutions et des équations algébriques (1870). Walther von Dyck (1882) introduced the idea of specifying a group by means of generators and relations, and was also the first to give an axiomatic definition of an \"abstract group\", in the terminology of the time. As of the 20th century, groups gained wide recognition by the pioneering work of Ferdinand Georg Frobenius and William Burnside, who worked on representation theory of finite groups, Richard Brauer\\'s modular representation theory and Issai Schur\\'s papers. The theory of Lie groups, and more generally locally compact groups was studied by Hermann Weyl, Élie Cartan and many others. Its algebraic counterpart, the theory of algebraic groups, was first shaped by Claude Chevalley (from the late 1930s) and later by the work of Armand Borel and Jacques Tits.The University of Chicago\\'s 1960–61 Group Theory Year brought together group theorists such as Daniel Gorenstein, John G. Thompson and Walter Feit, laying the foundation of a collaboration that, with input from numerous other mathematicians, led to the classification of finite simple groups, with the final step taken by Aschbacher and Smith in 2004. This project exceeded previous mathematical endeavours by its sheer size, in both length of proof and number of researchers. Research concerning this classification proof is ongoing. Group theory remains a highly active mathematical branch, impacting many other fields, as the examples below illustrate.\\n\\nElementary consequences of the group axioms\\nBasic facts about all groups that can be obtained directly from the group axioms are commonly subsumed under elementary group theory. For example, repeated applications of the associativity axiom show that the unambiguity of\\n\\ngeneralizes to more than three factors. Because this implies that parentheses can be inserted anywhere within such a series of terms, parentheses are usually omitted.Individual axioms may be \"weakened\" to assert only the existence of a left identity and left inverses. From these one-sided axioms, one can prove that the left identity is also a right identity and a left inverse is also a right inverse for the same element. Since they define exactly the same structures as groups, collectively the axioms are no weaker.\\n\\nUniqueness of identity element\\nThe group axioms imply that the identity element is unique: If \\n  \\n    \\n      \\n        e\\n      \\n    \\n    {\\\\displaystyle e}\\n   and \\n  \\n    \\n      \\n        f\\n      \\n    \\n    {\\\\displaystyle f}\\n   are identity elements of a group, then \\n  \\n    \\n      \\n        e\\n        =\\n        e\\n        ⋅\\n        f\\n        =\\n        f\\n      \\n    \\n    {\\\\displaystyle e=e\\\\cdot f=f}\\n  . Therefore, it is customary to speak of the identity.\\n\\nUniqueness of inverses\\nThe group axioms also imply that the inverse of each element is unique: If a group element \\n  \\n    \\n      \\n        a\\n      \\n    \\n    {\\\\displaystyle a}\\n   has both \\n  \\n    \\n      \\n        b\\n      \\n    \\n    {\\\\displaystyle b}\\n   and \\n  \\n    \\n      \\n        c\\n      \\n    \\n    {\\\\displaystyle c}\\n   as inverses, then\\n\\nTherefore, it is customary to speak of the inverse of an element.\\n\\nDivision\\nGiven elements \\n  \\n    \\n      \\n        a\\n      \\n    \\n    {\\\\displaystyle a}\\n   and \\n  \\n    \\n      \\n        b\\n      \\n    \\n    {\\\\displaystyle b}\\n   of a group \\n  \\n    \\n      \\n        G\\n      \\n    \\n    {\\\\displaystyle G}\\n  , there is a unique solution \\n  \\n    \\n      \\n        x\\n      \\n    \\n    {\\\\displaystyle x}\\n   in \\n  \\n    \\n      \\n        G\\n      \\n    \\n    {\\\\displaystyle G}\\n   to the equation \\n  \\n    \\n      \\n        a\\n        ⋅\\n        x\\n        =\\n        b\\n      \\n    \\n    {\\\\displaystyle a\\\\cdot x=b}\\n  , namely \\n  \\n    \\n      \\n        \\n          a\\n          \\n            −\\n            1\\n          \\n        \\n        ⋅\\n        b\\n      \\n    \\n    {\\\\displaystyle a^{-1}\\\\cdot b}\\n  . (One usually avoids using fraction notation \\n  \\n    \\n      \\n        \\n          \\n            \\n              b\\n              a\\n            \\n          \\n        \\n      \\n    \\n    {\\\\displaystyle {\\\\tfrac {b}{a}}}\\n   unless \\n  \\n    \\n      \\n        G\\n      \\n    \\n    {\\\\displaystyle G}\\n   is abelian, because of the ambiguity of whether it means \\n  \\n    \\n      \\n        \\n          a\\n          \\n            −\\n            1\\n          \\n        \\n        ⋅\\n        b\\n      \\n    \\n    {\\\\displaystyle a^{-1}\\\\cdot b}\\n   or \\n  \\n    \\n      \\n        b\\n        ⋅\\n        \\n          a\\n          \\n            −\\n            1\\n          \\n        \\n      \\n    \\n    {\\\\displaystyle b\\\\cdot a^{-1}}\\n  .) It follows that for each \\n  \\n    \\n      \\n        a\\n      \\n    \\n    {\\\\displaystyle a}\\n   in \\n  \\n    \\n      \\n        G\\n      \\n    \\n    {\\\\displaystyle G}\\n  , the function \\n  \\n    \\n      \\n        G\\n        →\\n        G\\n      \\n    \\n    {\\\\displaystyle G\\\\to G}\\n   that maps each \\n  \\n    \\n      \\n        x\\n      \\n    \\n    {\\\\displaystyle x}\\n   to \\n  \\n    \\n      \\n        a\\n        ⋅\\n        x\\n      \\n    \\n    {\\\\displaystyle a\\\\cdot x}\\n   is a bijection; it is called left multiplication by \\n  \\n    \\n      \\n        a\\n      \\n    \\n    {\\\\displaystyle a}\\n   or left translation by \\n  \\n    \\n      \\n        a\\n      \\n    \\n    {\\\\displaystyle a}\\n  .\\nSimilarly, given \\n  \\n    \\n      \\n        a\\n      \\n    \\n    {\\\\displaystyle a}\\n   and \\n  \\n    \\n      \\n        b\\n      \\n    \\n    {\\\\displaystyle b}\\n  , the unique solution to \\n  \\n    \\n      \\n        x\\n        ⋅\\n        a\\n        =\\n        b\\n      \\n    \\n    {\\\\displaystyle x\\\\cdot a=b}\\n   is \\n  \\n    \\n      \\n        b\\n        ⋅\\n        \\n          a\\n          \\n            −\\n            1\\n          \\n        \\n      \\n    \\n    {\\\\displaystyle b\\\\cdot a^{-1}}\\n  . For each \\n  \\n    \\n      \\n        a\\n      \\n    \\n    {\\\\displaystyle a}\\n  , the function \\n  \\n    \\n      \\n        G\\n        →\\n        G\\n      \\n    \\n    {\\\\displaystyle G\\\\to G}\\n   that maps each \\n  \\n    \\n      \\n        x\\n      \\n    \\n    {\\\\displaystyle x}\\n   to \\n  \\n    \\n      \\n        x\\n        ⋅\\n        a\\n      \\n    \\n    {\\\\displaystyle x\\\\cdot a}\\n   is a bijection called right multiplication by \\n  \\n    \\n      \\n        a\\n      \\n    \\n    {\\\\displaystyle a}\\n   or right translation by \\n  \\n    \\n      \\n        a\\n      \\n    \\n    {\\\\displaystyle a}\\n  .\\n\\nBasic concepts\\nWhen studying sets, one uses concepts such as subset, function, and quotient by an equivalence relation. When studying groups, one uses instead subgroups, homomorphisms, and quotient groups. These are the appropriate analogues that take into account the existence of the group structure.\\n\\nGroup homomorphisms\\nGroup homomorphisms are functions that respect group structure; they may be used to relate two groups. A homomorphism from a group \\n  \\n    \\n      \\n        (\\n        G\\n        ,\\n        ⋅\\n        )\\n      \\n    \\n    {\\\\displaystyle (G,\\\\cdot )}\\n   to a group \\n  \\n    \\n      \\n        (\\n        H\\n        ,\\n        ∗\\n        )\\n      \\n    \\n    {\\\\displaystyle (H,*)}\\n   is a function \\n  \\n    \\n      \\n        φ\\n        :\\n        G\\n        →\\n        H\\n      \\n    \\n    {\\\\displaystyle \\\\varphi :G\\\\to H}\\n   such that\\n\\nIt would be natural to require also that \\n  \\n    \\n      \\n        φ\\n      \\n    \\n    {\\\\displaystyle \\\\varphi }\\n   respect identities, \\n  \\n    \\n      \\n        φ\\n        (\\n        \\n          1\\n          \\n            G\\n          \\n        \\n        )\\n        =\\n        \\n          1\\n          \\n            H\\n          \\n        \\n      \\n    \\n    {\\\\displaystyle \\\\varphi (1_{G})=1_{H}}\\n  , and inverses, \\n  \\n    \\n      \\n        φ\\n        (\\n        \\n          a\\n          \\n            −\\n            1\\n          \\n        \\n        )\\n        =\\n        φ\\n        (\\n        a\\n        \\n          )\\n          \\n            −\\n            1\\n          \\n        \\n      \\n    \\n    {\\\\displaystyle \\\\varphi (a^{-1})=\\\\varphi (a)^{-1}}\\n   for all \\n  \\n    \\n      \\n        a\\n      \\n    \\n    {\\\\displaystyle a}\\n   in \\n  \\n    \\n      \\n        G\\n      \\n    \\n    {\\\\displaystyle G}\\n  . However, these additional requirements need not be included in the definition of homomorphisms, because they are already implied by the requirement of respecting the group operation.The identity homomorphism of a group \\n  \\n    \\n      \\n        G\\n      \\n    \\n    {\\\\displaystyle G}\\n   is the homomorphism \\n  \\n    \\n      \\n        \\n          ι\\n          \\n            G\\n          \\n        \\n        :\\n        G\\n        →\\n        G\\n      \\n    \\n    {\\\\displaystyle \\\\iota _{G}:G\\\\to G}\\n   that maps each element of \\n  \\n    \\n      \\n        G\\n      \\n    \\n    {\\\\displaystyle G}\\n   to itself. An inverse homomorphism of a homomorphism \\n  \\n    \\n      \\n        φ\\n        :\\n        G\\n        →\\n        H\\n      \\n    \\n    {\\\\displaystyle \\\\varphi :G\\\\to H}\\n   is a homomorphism \\n  \\n    \\n      \\n        ψ\\n        :\\n        H\\n        →\\n        G\\n      \\n    \\n    {\\\\displaystyle \\\\psi :H\\\\to G}\\n   such that \\n  \\n    \\n      \\n        ψ\\n        ∘\\n        φ\\n        =\\n        \\n          ι\\n          \\n            G\\n          \\n        \\n      \\n    \\n    {\\\\displaystyle \\\\psi \\\\circ \\\\varphi =\\\\iota _{G}}\\n   and \\n  \\n    \\n      \\n        φ\\n        ∘\\n        ψ\\n        =\\n        \\n          ι\\n          \\n            H\\n          \\n        \\n      \\n    \\n    {\\\\displaystyle \\\\varphi \\\\circ \\\\psi =\\\\iota _{H}}\\n  , that is, such that \\n  \\n    \\n      \\n        ψ\\n        \\n          \\n            (\\n          \\n        \\n        φ\\n        (\\n        g\\n        )\\n        \\n          \\n            )\\n          \\n        \\n        =\\n        g\\n      \\n    \\n    {\\\\displaystyle \\\\psi {\\\\bigl (}\\\\varphi (g){\\\\bigr )}=g}\\n   for all \\n  \\n    \\n      \\n        g\\n      \\n    \\n    {\\\\displaystyle g}\\n   in \\n  \\n    \\n      \\n        G\\n      \\n    \\n    {\\\\displaystyle G}\\n   and such that \\n  \\n    \\n      \\n        φ\\n        \\n          \\n            (\\n          \\n        \\n        ψ\\n        (\\n        h\\n        )\\n        \\n          \\n            )\\n          \\n        \\n        =\\n        h\\n      \\n    \\n    {\\\\displaystyle \\\\varphi {\\\\bigl (}\\\\psi (h){\\\\bigr )}=h}\\n   for all \\n  \\n    \\n      \\n        h\\n      \\n    \\n    {\\\\displaystyle h}\\n   in \\n  \\n    \\n      \\n        H\\n      \\n    \\n    {\\\\displaystyle H}\\n  . An isomorphism is a homomorphism that has an inverse homomorphism; equivalently, it is a bijective homomorphism. Groups \\n  \\n    \\n      \\n        G\\n      \\n    \\n    {\\\\displaystyle G}\\n   and \\n  \\n    \\n      \\n        H\\n      \\n    \\n    {\\\\displaystyle H}\\n   are called isomorphic if there exists an isomorphism \\n  \\n    \\n      \\n        φ\\n        :\\n        G\\n        →\\n        H\\n      \\n    \\n    {\\\\displaystyle \\\\varphi :G\\\\to H}\\n  . In this case, \\n  \\n    \\n      \\n        H\\n      \\n    \\n    {\\\\displaystyle H}\\n   can be obtained from \\n  \\n    \\n      \\n        G\\n      \\n    \\n    {\\\\displaystyle G}\\n   simply by renaming its elements according to the function \\n  \\n    \\n      \\n        φ\\n      \\n    \\n    {\\\\displaystyle \\\\varphi }\\n  ; then any statement true for \\n  \\n    \\n      \\n        G\\n      \\n    \\n    {\\\\displaystyle G}\\n   is true for \\n  \\n    \\n      \\n        H\\n      \\n    \\n    {\\\\displaystyle H}\\n  , provided that any specific elements mentioned in the statement are also renamed.\\nThe collection of all groups, together with the homomorphisms between them, form a category, the category of groups.\\n\\nSubgroups\\nInformally, a subgroup is a group \\n  \\n    \\n      \\n        H\\n      \\n    \\n    {\\\\displaystyle H}\\n   contained within a bigger one, \\n  \\n    \\n      \\n        G\\n      \\n    \\n    {\\\\displaystyle G}\\n  : it has a subset of the elements of \\n  \\n    \\n      \\n        G\\n      \\n    \\n    {\\\\displaystyle G}\\n  , with the same operation. Concretely, this means that the identity element of \\n  \\n    \\n      \\n        G\\n      \\n    \\n    {\\\\displaystyle G}\\n   must be contained in \\n  \\n    \\n      \\n        H\\n      \\n    \\n    {\\\\displaystyle H}\\n  , and whenever \\n  \\n    \\n      \\n        \\n          h\\n          \\n            1\\n          \\n        \\n      \\n    \\n    {\\\\displaystyle h_{1}}\\n   and \\n  \\n    \\n      \\n        \\n          h\\n          \\n            2\\n          \\n        \\n      \\n    \\n    {\\\\displaystyle h_{2}}\\n   are both in \\n  \\n    \\n      \\n        H\\n      \\n    \\n    {\\\\displaystyle H}\\n  , then so are \\n  \\n    \\n      \\n        \\n          h\\n          \\n            1\\n          \\n        \\n        ⋅\\n        \\n          h\\n          \\n            2\\n          \\n        \\n      \\n    \\n    {\\\\displaystyle h_{1}\\\\cdot h_{2}}\\n   and \\n  \\n    \\n      \\n        \\n          h\\n          \\n            1\\n          \\n          \\n            −\\n            1\\n          \\n        \\n      \\n    \\n    {\\\\displaystyle h_{1}^{-1}}\\n  , so the elements of \\n  \\n    \\n      \\n        H\\n      \\n    \\n    {\\\\displaystyle H}\\n  , equipped with the group operation on \\n  \\n    \\n      \\n        G\\n      \\n    \\n    {\\\\displaystyle G}\\n   restricted to \\n  \\n    \\n      \\n        H\\n      \\n    \\n    {\\\\displaystyle H}\\n  , indeed form a group.\\nIn the example of symmetries of a square, the identity and the rotations constitute a subgroup \\n  \\n    \\n      \\n        R\\n        =\\n        {\\n        \\n          i\\n          d\\n        \\n        ,\\n        \\n          r\\n          \\n            1\\n          \\n        \\n        ,\\n        \\n          r\\n          \\n            2\\n          \\n        \\n        ,\\n        \\n          r\\n          \\n            3\\n          \\n        \\n        }\\n      \\n    \\n    {\\\\displaystyle R=\\\\{\\\\mathrm {id} ,r_{1},r_{2},r_{3}\\\\}}\\n  , highlighted in red in the group table of the example: any two rotations composed are still a rotation, and a rotation can be undone by (i.e., is inverse to) the complementary rotations  270° for 90°, 180° for 180°, and 90° for 270°. The subgroup test provides a necessary and sufficient condition for a nonempty subset H of a group G to be a subgroup: it is sufficient to check that \\n  \\n    \\n      \\n        \\n          g\\n          \\n            −\\n            1\\n          \\n        \\n        ⋅\\n        h\\n        ∈\\n        H\\n      \\n    \\n    {\\\\displaystyle g^{-1}\\\\cdot h\\\\in H}\\n   for all elements \\n  \\n    \\n      \\n        g\\n      \\n    \\n    {\\\\displaystyle g}\\n   and \\n  \\n    \\n      \\n        h\\n      \\n    \\n    {\\\\displaystyle h}\\n   in \\n  \\n    \\n      \\n        H\\n      \\n    \\n    {\\\\displaystyle H}\\n  . Knowing a group\\'s subgroups is important in understanding the group as a whole.Given any subset \\n  \\n    \\n      \\n        S\\n      \\n    \\n    {\\\\displaystyle S}\\n   of a group \\n  \\n    \\n      \\n        G\\n      \\n    \\n    {\\\\displaystyle G}\\n  , the subgroup generated by \\n  \\n    \\n      \\n        S\\n      \\n    \\n    {\\\\displaystyle S}\\n   consists of products of elements of \\n  \\n    \\n      \\n        S\\n      \\n    \\n    {\\\\displaystyle S}\\n   and their inverses. It is the smallest subgroup of \\n  \\n    \\n      \\n        G\\n      \\n    \\n    {\\\\displaystyle G}\\n   containing \\n  \\n    \\n      \\n        S\\n      \\n    \\n    {\\\\displaystyle S}\\n  . In the example of symmetries of a square, the subgroup generated by \\n  \\n    \\n      \\n        \\n          r\\n          \\n            2\\n          \\n        \\n      \\n    \\n    {\\\\displaystyle r_{2}}\\n   and \\n  \\n    \\n      \\n        \\n          f\\n          \\n            \\n              v\\n            \\n          \\n        \\n      \\n    \\n    {\\\\displaystyle f_{\\\\mathrm {v} }}\\n   consists of these two elements, the identity element \\n  \\n    \\n      \\n        \\n          i\\n          d\\n        \\n      \\n    \\n    {\\\\displaystyle \\\\mathrm {id} }\\n  , and the element \\n  \\n    \\n      \\n        \\n          f\\n          \\n            \\n              h\\n            \\n          \\n        \\n        =\\n        \\n          f\\n          \\n            \\n              v\\n            \\n          \\n        \\n        ⋅\\n        \\n          r\\n          \\n            2\\n          \\n        \\n      \\n    \\n    {\\\\displaystyle f_{\\\\mathrm {h} }=f_{\\\\mathrm {v} }\\\\cdot r_{2}}\\n  . Again, this is a subgroup, because combining any two of these four elements or their inverses (which are, in this particular case, these same elements) yields an element of this subgroup.\\n\\nCosets\\nIn many situations it is desirable to consider two group elements the same if they differ by an element of a given subgroup. For example, in the symmetry group of a square, once any reflection is performed, rotations alone cannot return the square to its original position, so one can think of the reflected positions of the square as all being equivalent to each other, and as inequivalent to the unreflected positions; the rotation operations are irrelevant to the question whether a reflection has been performed. Cosets are used to formalize this insight: a subgroup \\n  \\n    \\n      \\n        H\\n      \\n    \\n    {\\\\displaystyle H}\\n   determines left and right cosets, which can be thought of as translations of \\n  \\n    \\n      \\n        H\\n      \\n    \\n    {\\\\displaystyle H}\\n   by an arbitrary group element \\n  \\n    \\n      \\n        g\\n      \\n    \\n    {\\\\displaystyle g}\\n  . In symbolic terms, the left and right cosets of \\n  \\n    \\n      \\n        H\\n      \\n    \\n    {\\\\displaystyle H}\\n  , containing an element \\n  \\n    \\n      \\n        g\\n      \\n    \\n    {\\\\displaystyle g}\\n  , are\\n\\nThe left cosets of any subgroup \\n  \\n    \\n      \\n        H\\n      \\n    \\n    {\\\\displaystyle H}\\n   form a partition of \\n  \\n    \\n      \\n        G\\n      \\n    \\n    {\\\\displaystyle G}\\n  ; that is, the union of all left cosets is equal to \\n  \\n    \\n      \\n        G\\n      \\n    \\n    {\\\\displaystyle G}\\n   and two left cosets are either equal or have an empty intersection. The first case \\n  \\n    \\n      \\n        \\n          g\\n          \\n            1\\n          \\n        \\n        H\\n        =\\n        \\n          g\\n          \\n            2\\n          \\n        \\n        H\\n      \\n    \\n    {\\\\displaystyle g_{1}H=g_{2}H}\\n   happens precisely when \\n  \\n    \\n      \\n        \\n          g\\n          \\n            1\\n          \\n          \\n            −\\n            1\\n          \\n        \\n        ⋅\\n        \\n          g\\n          \\n            2\\n          \\n        \\n        ∈\\n        H\\n      \\n    \\n    {\\\\displaystyle g_{1}^{-1}\\\\cdot g_{2}\\\\in H}\\n  , i.e., when the two elements differ by an element of \\n  \\n    \\n      \\n        H\\n      \\n    \\n    {\\\\displaystyle H}\\n  . Similar considerations apply to the right cosets of \\n  \\n    \\n      \\n        H\\n      \\n    \\n    {\\\\displaystyle H}\\n  . The left cosets of \\n  \\n    \\n      \\n        H\\n      \\n    \\n    {\\\\displaystyle H}\\n   may or may not be the same as its right cosets. If they are (that is, if all \\n  \\n    \\n      \\n        g\\n      \\n    \\n    {\\\\displaystyle g}\\n   in \\n  \\n    \\n      \\n        G\\n      \\n    \\n    {\\\\displaystyle G}\\n   satisfy \\n  \\n    \\n      \\n        g\\n        H\\n        =\\n        H\\n        g\\n      \\n    \\n    {\\\\displaystyle gH=Hg}\\n  ), then \\n  \\n    \\n      \\n        H\\n      \\n    \\n    {\\\\displaystyle H}\\n   is said to be a normal subgroup.\\nIn \\n  \\n    \\n      \\n        \\n          \\n            D\\n          \\n          \\n            4\\n          \\n        \\n      \\n    \\n    {\\\\displaystyle \\\\mathrm {D} _{4}}\\n  , the group of symmetries of a square, with its subgroup \\n  \\n    \\n      \\n        R\\n      \\n    \\n    {\\\\displaystyle R}\\n   of rotations, the left cosets \\n  \\n    \\n      \\n        g\\n        R\\n      \\n    \\n    {\\\\displaystyle gR}\\n   are either equal to \\n  \\n    \\n      \\n        R\\n      \\n    \\n    {\\\\displaystyle R}\\n  , if \\n  \\n    \\n      \\n        g\\n      \\n    \\n    {\\\\displaystyle g}\\n   is an element of \\n  \\n    \\n      \\n        R\\n      \\n    \\n    {\\\\displaystyle R}\\n   itself, or otherwise equal to \\n  \\n    \\n      \\n        U\\n        =\\n        \\n          f\\n          \\n            \\n              c\\n            \\n          \\n        \\n        R\\n        =\\n        {\\n        \\n          f\\n          \\n            \\n              c\\n            \\n          \\n        \\n        ,\\n        \\n          f\\n          \\n            \\n              d\\n            \\n          \\n        \\n        ,\\n        \\n          f\\n          \\n            \\n              v\\n            \\n          \\n        \\n        ,\\n        \\n          f\\n          \\n            \\n              h\\n            \\n          \\n        \\n        }\\n      \\n    \\n    {\\\\displaystyle U=f_{\\\\mathrm {c} }R=\\\\{f_{\\\\mathrm {c} },f_{\\\\mathrm {d} },f_{\\\\mathrm {v} },f_{\\\\mathrm {h} }\\\\}}\\n   (highlighted in green in the group table of \\n  \\n    \\n      \\n        \\n          \\n            D\\n          \\n          \\n            4\\n          \\n        \\n      \\n    \\n    {\\\\displaystyle \\\\mathrm {D} _{4}}\\n  ). The subgroup \\n  \\n    \\n      \\n        R\\n      \\n    \\n    {\\\\displaystyle R}\\n   is normal, because \\n  \\n    \\n      \\n        \\n          f\\n          \\n            \\n              c\\n            \\n          \\n        \\n        R\\n        =\\n        U\\n        =\\n        R\\n        \\n          f\\n          \\n            \\n              c\\n            \\n          \\n        \\n      \\n    \\n    {\\\\displaystyle f_{\\\\mathrm {c} }R=U=Rf_{\\\\mathrm {c} }}\\n   and similarly for the other elements of the group. (In fact, in the case of \\n  \\n    \\n      \\n        \\n          \\n            D\\n          \\n          \\n            4\\n          \\n        \\n      \\n    \\n    {\\\\displaystyle \\\\mathrm {D} _{4}}\\n  , the cosets generated by reflections are all equal: \\n  \\n    \\n      \\n        \\n          f\\n          \\n            \\n              h\\n            \\n          \\n        \\n        R\\n        =\\n        \\n          f\\n          \\n            \\n              v\\n            \\n          \\n        \\n        R\\n        =\\n        \\n          f\\n          \\n            \\n              d\\n            \\n          \\n        \\n        R\\n        =\\n        \\n          f\\n          \\n            \\n              c\\n            \\n          \\n        \\n        R\\n      \\n    \\n    {\\\\displaystyle f_{\\\\mathrm {h} }R=f_{\\\\mathrm {v} }R=f_{\\\\mathrm {d} }R=f_{\\\\mathrm {c} }R}\\n  .)\\n\\nQuotient groups\\nIn some situations the set of cosets of a subgroup can be endowed with a group law, giving a quotient group or factor group. For this to be possible, the subgroup has to be normal. Given any normal subgroup N, the quotient group is defined by\\n\\nwhere the notation \\n  \\n    \\n      \\n        G\\n        \\n          /\\n        \\n        N\\n      \\n    \\n    {\\\\displaystyle G/N}\\n   is read as \"\\n  \\n    \\n      \\n        G\\n      \\n    \\n    {\\\\displaystyle G}\\n   modulo \\n  \\n    \\n      \\n        N\\n      \\n    \\n    {\\\\displaystyle N}\\n  \". This set inherits a group operation (sometimes called coset multiplication, or coset addition) from the original group \\n  \\n    \\n      \\n        G\\n      \\n    \\n    {\\\\displaystyle G}\\n  : the product of two cosets \\n  \\n    \\n      \\n        g\\n        N\\n      \\n    \\n    {\\\\displaystyle gN}\\n   and \\n  \\n    \\n      \\n        h\\n        N\\n      \\n    \\n    {\\\\displaystyle hN}\\n   is \\n  \\n    \\n      \\n        (\\n        g\\n        N\\n        )\\n        ⋅\\n        (\\n        h\\n        N\\n        )\\n        =\\n        (\\n        g\\n        h\\n        )\\n        N\\n      \\n    \\n    {\\\\displaystyle (gN)\\\\cdot (hN)=(gh)N}\\n   for all \\n  \\n    \\n      \\n        g\\n      \\n    \\n    {\\\\displaystyle g}\\n   and \\n  \\n    \\n      \\n        h\\n      \\n    \\n    {\\\\displaystyle h}\\n   in \\n  \\n    \\n      \\n        G\\n      \\n    \\n    {\\\\displaystyle G}\\n  . This definition is motivated by the idea (itself an instance of general structural considerations outlined above) that the map \\n  \\n    \\n      \\n        G\\n        →\\n        G\\n        \\n          /\\n        \\n        N\\n      \\n    \\n    {\\\\displaystyle G\\\\to G/N}\\n   that associates to any element \\n  \\n    \\n      \\n        g\\n      \\n    \\n    {\\\\displaystyle g}\\n   its coset \\n  \\n    \\n      \\n        g\\n        N\\n      \\n    \\n    {\\\\displaystyle gN}\\n   should be a group homomorphism, or by general abstract considerations called universal properties. The coset \\n  \\n    \\n      \\n        e\\n        N\\n        =\\n        N\\n      \\n    \\n    {\\\\displaystyle eN=N}\\n   serves as the identity in this group, and the inverse of \\n  \\n    \\n      \\n        g\\n        N\\n      \\n    \\n    {\\\\displaystyle gN}\\n   in the quotient group is \\n  \\n    \\n      \\n        (\\n        g\\n        N\\n        \\n          )\\n          \\n            −\\n            1\\n          \\n        \\n        =\\n        \\n          (\\n          \\n            g\\n            \\n              −\\n              1\\n            \\n          \\n          )\\n        \\n        N\\n      \\n    \\n    {\\\\displaystyle (gN)^{-1}=\\\\left(g^{-1}\\\\right)N}\\n  .\\n\\nThe elements of the quotient group \\n  \\n    \\n      \\n        \\n          \\n            D\\n          \\n          \\n            4\\n          \\n        \\n        \\n          /\\n        \\n        R\\n      \\n    \\n    {\\\\displaystyle \\\\mathrm {D} _{4}/R}\\n   are \\n  \\n    \\n      \\n        R\\n      \\n    \\n    {\\\\displaystyle R}\\n   itself, which represents the identity, and \\n  \\n    \\n      \\n        U\\n        =\\n        \\n          f\\n          \\n            \\n              v\\n            \\n          \\n        \\n        R\\n      \\n    \\n    {\\\\displaystyle U=f_{\\\\mathrm {v} }R}\\n  . The group operation on the quotient is shown in the table. For example, \\n  \\n    \\n      \\n        U\\n        ⋅\\n        U\\n        =\\n        \\n          f\\n          \\n            \\n              v\\n            \\n          \\n        \\n        R\\n        ⋅\\n        \\n          f\\n          \\n            \\n              v\\n            \\n          \\n        \\n        R\\n        =\\n        (\\n        \\n          f\\n          \\n            \\n              v\\n            \\n          \\n        \\n        ⋅\\n        \\n          f\\n          \\n            \\n              v\\n            \\n          \\n        \\n        )\\n        R\\n        =\\n        R\\n      \\n    \\n    {\\\\displaystyle U\\\\cdot U=f_{\\\\mathrm {v} }R\\\\cdot f_{\\\\mathrm {v} }R=(f_{\\\\mathrm {v} }\\\\cdot f_{\\\\mathrm {v} })R=R}\\n  . Both the subgroup \\n  \\n    \\n      \\n        R\\n        =\\n        {\\n        \\n          i\\n          d\\n        \\n        ,\\n        \\n          r\\n          \\n            1\\n          \\n        \\n        ,\\n        \\n          r\\n          \\n            2\\n          \\n        \\n        ,\\n        \\n          r\\n          \\n            3\\n          \\n        \\n        }\\n      \\n    \\n    {\\\\displaystyle R=\\\\{\\\\mathrm {id} ,r_{1},r_{2},r_{3}\\\\}}\\n  , as well as the corresponding quotient are abelian, whereas \\n  \\n    \\n      \\n        \\n          \\n            D\\n          \\n          \\n            4\\n          \\n        \\n      \\n    \\n    {\\\\displaystyle \\\\mathrm {D} _{4}}\\n   is not abelian. Building bigger groups by smaller ones, such as \\n  \\n    \\n      \\n        \\n          \\n            D\\n          \\n          \\n            4\\n          \\n        \\n      \\n    \\n    {\\\\displaystyle \\\\mathrm {D} _{4}}\\n   from its subgroup \\n  \\n    \\n      \\n        R\\n      \\n    \\n    {\\\\displaystyle R}\\n   and the quotient \\n  \\n    \\n      \\n        \\n          \\n            D\\n          \\n          \\n            4\\n          \\n        \\n        \\n          /\\n        \\n        R\\n      \\n    \\n    {\\\\displaystyle \\\\mathrm {D} _{4}/R}\\n   is abstracted by a notion called semidirect product.\\nQuotient groups and subgroups together form a way of describing every group by its presentation: any group is the quotient of the free group over the generators of the group, quotiented by the subgroup of relations. The dihedral group \\n  \\n    \\n      \\n        \\n          \\n            D\\n          \\n          \\n            4\\n          \\n        \\n      \\n    \\n    {\\\\displaystyle \\\\mathrm {D} _{4}}\\n  , for example, can be generated by two elements \\n  \\n    \\n      \\n        r\\n      \\n    \\n    {\\\\displaystyle r}\\n   and \\n  \\n    \\n      \\n        f\\n      \\n    \\n    {\\\\displaystyle f}\\n   (for example, \\n  \\n    \\n      \\n        r\\n        =\\n        \\n          r\\n          \\n            1\\n          \\n        \\n      \\n    \\n    {\\\\displaystyle r=r_{1}}\\n  , the right rotation and \\n  \\n    \\n      \\n        f\\n        =\\n        \\n          f\\n          \\n            \\n              v\\n            \\n          \\n        \\n      \\n    \\n    {\\\\displaystyle f=f_{\\\\mathrm {v} }}\\n   the vertical (or any other) reflection), which means that every symmetry of the square is a finite composition of these two symmetries or their inverses. Together with the relations\\n\\nthe group is completely described. A presentation of a group can also be used to construct the Cayley graph, a device used to graphically capture discrete groups.Sub- and quotient groups are related in the following way: a subgroup \\n  \\n    \\n      \\n        H\\n      \\n    \\n    {\\\\displaystyle H}\\n   of \\n  \\n    \\n      \\n        G\\n      \\n    \\n    {\\\\displaystyle G}\\n   corresponds to an injective map \\n  \\n    \\n      \\n        H\\n        →\\n        G\\n      \\n    \\n    {\\\\displaystyle H\\\\to G}\\n  , for which any element of the target has at most one element that maps to it. The counterpart to injective maps are surjective maps (every element of the target is mapped onto), such as the canonical map \\n  \\n    \\n      \\n        G\\n        →\\n        G\\n        \\n          /\\n        \\n        N\\n      \\n    \\n    {\\\\displaystyle G\\\\to G/N}\\n  . Interpreting subgroup and quotients in light of these homomorphisms emphasizes the structural concept inherent to these definitions. In general, homomorphisms are neither injective nor surjective. The kernel and image of group homomorphisms and the first isomorphism theorem address this phenomenon.\\n\\nExamples and applications\\nExamples and applications of groups abound. A starting point is the group \\n  \\n    \\n      \\n        \\n          Z\\n        \\n      \\n    \\n    {\\\\displaystyle \\\\mathbb {Z} }\\n   of integers with addition as group operation, introduced above. If instead of addition multiplication is considered, one obtains multiplicative groups. These groups are predecessors of important constructions in abstract algebra.\\nGroups are also applied in many other mathematical areas. Mathematical objects are often examined by associating groups to them and studying the properties of the corresponding groups. For example, Henri Poincaré founded what is now called algebraic topology by introducing the fundamental group. By means of this connection, topological properties such as proximity and continuity translate into properties of groups. For example, elements of the fundamental group are represented by loops. The second image shows some loops in a plane minus a point. The blue loop is considered null-homotopic (and thus irrelevant), because it can be continuously shrunk to a point. The presence of the hole prevents the orange loop from being shrunk to a point. The fundamental group of the plane with a point deleted turns out to be infinite cyclic, generated by the orange loop (or any other loop winding once around the hole). This way, the fundamental group detects the hole.\\nIn more recent applications, the influence has also been reversed to motivate geometric constructions by a group-theoretical background. In a similar vein, geometric group theory employs geometric concepts, for example in the study of hyperbolic groups. Further branches crucially applying groups include algebraic geometry and number theory.In addition to the above theoretical applications, many practical applications of groups exist. Cryptography relies on the combination of the abstract group theory approach together with algorithmical knowledge obtained in computational group theory, in particular when implemented for finite groups. Applications of group theory are not restricted to mathematics; sciences such as physics, chemistry and computer science benefit from the concept.\\n\\nNumbers\\nMany number systems, such as the integers and the rationals, enjoy a naturally given group structure. In some cases, such as with the rationals, both addition and multiplication operations give rise to group structures. Such number systems are predecessors to more general algebraic structures known as rings and fields. Further abstract algebraic concepts such as modules, vector spaces and algebras also form groups.\\n\\nIntegers\\nThe group of integers \\n  \\n    \\n      \\n        \\n          Z\\n        \\n      \\n    \\n    {\\\\displaystyle \\\\mathbb {Z} }\\n   under addition, denoted \\n  \\n    \\n      \\n        \\n          (\\n          \\n            \\n              Z\\n            \\n            ,\\n            +\\n          \\n          )\\n        \\n      \\n    \\n    {\\\\displaystyle \\\\left(\\\\mathbb {Z} ,+\\\\right)}\\n  , has been described above. The integers, with the operation of multiplication instead of addition, \\n  \\n    \\n      \\n        \\n          (\\n          \\n            \\n              Z\\n            \\n            ,\\n            ⋅\\n          \\n          )\\n        \\n      \\n    \\n    {\\\\displaystyle \\\\left(\\\\mathbb {Z} ,\\\\cdot \\\\right)}\\n   do not form a group. The associativity and identity axioms are satisfied, but inverses do not exist: for example, \\n  \\n    \\n      \\n        a\\n        =\\n        2\\n      \\n    \\n    {\\\\displaystyle a=2}\\n   is an integer, but the only solution to the equation \\n  \\n    \\n      \\n        a\\n        ⋅\\n        b\\n        =\\n        1\\n      \\n    \\n    {\\\\displaystyle a\\\\cdot b=1}\\n   in this case is \\n  \\n    \\n      \\n        b\\n        =\\n        \\n          \\n            \\n              1\\n              2\\n            \\n          \\n        \\n      \\n    \\n    {\\\\displaystyle b={\\\\tfrac {1}{2}}}\\n  , which is a rational number, but not an integer. Hence not every element of \\n  \\n    \\n      \\n        \\n          Z\\n        \\n      \\n    \\n    {\\\\displaystyle \\\\mathbb {Z} }\\n   has a (multiplicative) inverse.\\n\\nRationals\\nThe desire for the existence of multiplicative inverses suggests considering fractions\\n\\nFractions of integers (with \\n  \\n    \\n      \\n        b\\n      \\n    \\n    {\\\\displaystyle b}\\n   nonzero) are known as rational numbers. The set of all such irreducible fractions is commonly denoted \\n  \\n    \\n      \\n        \\n          Q\\n        \\n      \\n    \\n    {\\\\displaystyle \\\\mathbb {Q} }\\n  . There is still a minor obstacle for \\n  \\n    \\n      \\n        \\n          (\\n          \\n            \\n              Q\\n            \\n            ,\\n            ⋅\\n          \\n          )\\n        \\n      \\n    \\n    {\\\\displaystyle \\\\left(\\\\mathbb {Q} ,\\\\cdot \\\\right)}\\n  , the rationals with multiplication, being a group: because zero does not have a multiplicative inverse (i.e., there is no \\n  \\n    \\n      \\n        x\\n      \\n    \\n    {\\\\displaystyle x}\\n   such that \\n  \\n    \\n      \\n        x\\n        ⋅\\n        0\\n        =\\n        1\\n      \\n    \\n    {\\\\displaystyle x\\\\cdot 0=1}\\n  ), \\n  \\n    \\n      \\n        \\n          (\\n          \\n            \\n              Q\\n            \\n            ,\\n            ⋅\\n          \\n          )\\n        \\n      \\n    \\n    {\\\\displaystyle \\\\left(\\\\mathbb {Q} ,\\\\cdot \\\\right)}\\n   is still not a group.\\nHowever, the set of all nonzero rational numbers \\n  \\n    \\n      \\n        \\n          Q\\n        \\n        ∖\\n        \\n          {\\n          0\\n          }\\n        \\n        =\\n        \\n          {\\n          \\n            q\\n            ∈\\n            \\n              Q\\n            \\n            ∣\\n            q\\n            ≠\\n            0\\n          \\n          }\\n        \\n      \\n    \\n    {\\\\displaystyle \\\\mathbb {Q} \\\\smallsetminus \\\\left\\\\{0\\\\right\\\\}=\\\\left\\\\{q\\\\in \\\\mathbb {Q} \\\\mid q\\\\neq 0\\\\right\\\\}}\\n   does form an abelian group under multiplication, also denoted \\n  \\n    \\n      \\n        \\n          \\n            Q\\n          \\n          \\n            ×\\n          \\n        \\n      \\n    \\n    {\\\\displaystyle \\\\mathbb {Q} ^{\\\\times }}\\n  . Associativity and identity element axioms follow from the properties of integers. The closure requirement still holds true after removing zero, because the product of two nonzero rationals is never zero. Finally, the inverse of \\n  \\n    \\n      \\n        a\\n        \\n          /\\n        \\n        b\\n      \\n    \\n    {\\\\displaystyle a/b}\\n   is \\n  \\n    \\n      \\n        b\\n        \\n          /\\n        \\n        a\\n      \\n    \\n    {\\\\displaystyle b/a}\\n  , therefore the axiom of the inverse element is satisfied.\\nThe rational numbers (including zero) also form a group under addition. Intertwining addition and multiplication operations yields more complicated structures called rings and – if division by other than zero is possible, such as in \\n  \\n    \\n      \\n        \\n          Q\\n        \\n      \\n    \\n    {\\\\displaystyle \\\\mathbb {Q} }\\n   – fields, which occupy a central position in abstract algebra. Group theoretic arguments therefore underlie parts of the theory of those entities.\\n\\nModular arithmetic\\nModular arithmetic for a modulus \\n  \\n    \\n      \\n        n\\n      \\n    \\n    {\\\\displaystyle n}\\n   defines any two elements \\n  \\n    \\n      \\n        a\\n      \\n    \\n    {\\\\displaystyle a}\\n   and \\n  \\n    \\n      \\n        b\\n      \\n    \\n    {\\\\displaystyle b}\\n   that differ by a multiple of \\n  \\n    \\n      \\n        n\\n      \\n    \\n    {\\\\displaystyle n}\\n   to be equivalent, denoted by \\n  \\n    \\n      \\n        a\\n        ≡\\n        b\\n        \\n          \\n          (\\n          mod\\n          \\n          n\\n          )\\n        \\n      \\n    \\n    {\\\\displaystyle a\\\\equiv b{\\\\pmod {n}}}\\n  . Every integer is equivalent to one of the integers from \\n  \\n    \\n      \\n        0\\n      \\n    \\n    {\\\\displaystyle 0}\\n   to \\n  \\n    \\n      \\n        n\\n        −\\n        1\\n      \\n    \\n    {\\\\displaystyle n-1}\\n  , and the operations of modular arithmetic modify normal arithmetic by replacing the result of any operation by its equivalent representative. Modular addition, defined in this way for the integers from \\n  \\n    \\n      \\n        0\\n      \\n    \\n    {\\\\displaystyle 0}\\n   to \\n  \\n    \\n      \\n        n\\n        −\\n        1\\n      \\n    \\n    {\\\\displaystyle n-1}\\n  , forms a group, denoted as \\n  \\n    \\n      \\n        \\n          \\n            Z\\n          \\n          \\n            n\\n          \\n        \\n      \\n    \\n    {\\\\displaystyle \\\\mathrm {Z} _{n}}\\n   or \\n  \\n    \\n      \\n        (\\n        \\n          Z\\n        \\n        \\n          /\\n        \\n        n\\n        \\n          Z\\n        \\n        ,\\n        +\\n        )\\n      \\n    \\n    {\\\\displaystyle (\\\\mathbb {Z} /n\\\\mathbb {Z} ,+)}\\n  , with \\n  \\n    \\n      \\n        0\\n      \\n    \\n    {\\\\displaystyle 0}\\n   as the identity element and \\n  \\n    \\n      \\n        n\\n        −\\n        a\\n      \\n    \\n    {\\\\displaystyle n-a}\\n   as the inverse element of \\n  \\n    \\n      \\n        a\\n      \\n    \\n    {\\\\displaystyle a}\\n  .\\nA familiar example is addition of hours on the face of a clock, where 12 rather than 0 is chosen as the representative of the identity. If the hour hand is on \\n  \\n    \\n      \\n        9\\n      \\n    \\n    {\\\\displaystyle 9}\\n   and is advanced \\n  \\n    \\n      \\n        4\\n      \\n    \\n    {\\\\displaystyle 4}\\n   hours, it ends up on \\n  \\n    \\n      \\n        1\\n      \\n    \\n    {\\\\displaystyle 1}\\n  , as shown in the illustration. This is expressed by saying that \\n  \\n    \\n      \\n        9\\n        +\\n        4\\n      \\n    \\n    {\\\\displaystyle 9+4}\\n   is congruent to \\n  \\n    \\n      \\n        1\\n      \\n    \\n    {\\\\displaystyle 1}\\n   \"modulo \\n  \\n    \\n      \\n        12\\n      \\n    \\n    {\\\\displaystyle 12}\\n  \" or, in symbols,\\n\\nFor any prime number \\n  \\n    \\n      \\n        p\\n      \\n    \\n    {\\\\displaystyle p}\\n  , there is also the multiplicative group of integers modulo \\n  \\n    \\n      \\n        p\\n      \\n    \\n    {\\\\displaystyle p}\\n  . Its elements can be represented by \\n  \\n    \\n      \\n        1\\n      \\n    \\n    {\\\\displaystyle 1}\\n   to \\n  \\n    \\n      \\n        p\\n        −\\n        1\\n      \\n    \\n    {\\\\displaystyle p-1}\\n  . The group operation, multiplication modulo \\n  \\n    \\n      \\n        p\\n      \\n    \\n    {\\\\displaystyle p}\\n  , replaces the usual product by its representative, the remainder of division by \\n  \\n    \\n      \\n        p\\n      \\n    \\n    {\\\\displaystyle p}\\n  . For example, for \\n  \\n    \\n      \\n        p\\n        =\\n        5\\n      \\n    \\n    {\\\\displaystyle p=5}\\n  , the four group elements can be represented by \\n  \\n    \\n      \\n        1\\n        ,\\n        2\\n        ,\\n        3\\n        ,\\n        4\\n      \\n    \\n    {\\\\displaystyle 1,2,3,4}\\n  . In this group, \\n  \\n    \\n      \\n        4\\n        ⋅\\n        4\\n        ≡\\n        1\\n        \\n          mod\\n          \\n            5\\n          \\n        \\n      \\n    \\n    {\\\\displaystyle 4\\\\cdot 4\\\\equiv 1{\\\\bmod {5}}}\\n  , because the usual product \\n  \\n    \\n      \\n        16\\n      \\n    \\n    {\\\\displaystyle 16}\\n   is equivalent to \\n  \\n    \\n      \\n        1\\n      \\n    \\n    {\\\\displaystyle 1}\\n  : when divided by \\n  \\n    \\n      \\n        5\\n      \\n    \\n    {\\\\displaystyle 5}\\n   it yields a remainder of \\n  \\n    \\n      \\n        1\\n      \\n    \\n    {\\\\displaystyle 1}\\n  . The primality of \\n  \\n    \\n      \\n        p\\n      \\n    \\n    {\\\\displaystyle p}\\n   ensures that the usual product of two representatives is not divisible by \\n  \\n    \\n      \\n        p\\n      \\n    \\n    {\\\\displaystyle p}\\n  , and therefore that the modular product is nonzero. The identity element is represented by \\n  \\n    \\n      \\n        1\\n      \\n    \\n    {\\\\displaystyle 1}\\n  , and associativity follows from the corresponding property of the integers. Finally, the inverse element axiom requires that given an integer \\n  \\n    \\n      \\n        a\\n      \\n    \\n    {\\\\displaystyle a}\\n   not divisible by \\n  \\n    \\n      \\n        p\\n      \\n    \\n    {\\\\displaystyle p}\\n  , there exists an integer \\n  \\n    \\n      \\n        b\\n      \\n    \\n    {\\\\displaystyle b}\\n   such that \\n\\nthat is, such that \\n  \\n    \\n      \\n        p\\n      \\n    \\n    {\\\\displaystyle p}\\n   evenly divides \\n  \\n    \\n      \\n        a\\n        ⋅\\n        b\\n        −\\n        1\\n      \\n    \\n    {\\\\displaystyle a\\\\cdot b-1}\\n  . The inverse \\n  \\n    \\n      \\n        b\\n      \\n    \\n    {\\\\displaystyle b}\\n   can be found by using Bézout\\'s identity and the fact that the greatest common divisor \\n  \\n    \\n      \\n        gcd\\n        (\\n        a\\n        ,\\n        p\\n        )\\n      \\n    \\n    {\\\\displaystyle \\\\gcd(a,p)}\\n   equals \\n  \\n    \\n      \\n        1\\n      \\n    \\n    {\\\\displaystyle 1}\\n  . In the case \\n  \\n    \\n      \\n        p\\n        =\\n        5\\n      \\n    \\n    {\\\\displaystyle p=5}\\n   above, the inverse of the element represented by \\n  \\n    \\n      \\n        4\\n      \\n    \\n    {\\\\displaystyle 4}\\n   is that represented by \\n  \\n    \\n      \\n        4\\n      \\n    \\n    {\\\\displaystyle 4}\\n  , and the inverse of the element represented by \\n  \\n    \\n      \\n        3\\n      \\n    \\n    {\\\\displaystyle 3}\\n   is represented by \\n  \\n    \\n      \\n        2\\n      \\n    \\n    {\\\\displaystyle 2}\\n  , as \\n  \\n    \\n      \\n        3\\n        ⋅\\n        2\\n        =\\n        6\\n        ≡\\n        1\\n        \\n          mod\\n          \\n            5\\n          \\n        \\n      \\n    \\n    {\\\\displaystyle 3\\\\cdot 2=6\\\\equiv 1{\\\\bmod {5}}}\\n  . Hence all group axioms are fulfilled. This example is similar to \\n  \\n    \\n      \\n        \\n          (\\n          \\n            \\n              Q\\n            \\n            ∖\\n            \\n              {\\n              0\\n              }\\n            \\n            ,\\n            ⋅\\n          \\n          )\\n        \\n      \\n    \\n    {\\\\displaystyle \\\\left(\\\\mathbb {Q} \\\\smallsetminus \\\\left\\\\{0\\\\right\\\\},\\\\cdot \\\\right)}\\n   above: it consists of exactly those elements in the ring \\n  \\n    \\n      \\n        \\n          Z\\n        \\n        \\n          /\\n        \\n        p\\n        \\n          Z\\n        \\n      \\n    \\n    {\\\\displaystyle \\\\mathbb {Z} /p\\\\mathbb {Z} }\\n   that have a multiplicative inverse. These groups, denoted \\n  \\n    \\n      \\n        \\n          \\n            F\\n          \\n          \\n            p\\n          \\n          \\n            ×\\n          \\n        \\n      \\n    \\n    {\\\\displaystyle \\\\mathbb {F} _{p}^{\\\\times }}\\n  , are crucial to public-key cryptography.\\n\\nCyclic groups\\nA cyclic group is a group all of whose elements are powers of a particular element \\n  \\n    \\n      \\n        a\\n      \\n    \\n    {\\\\displaystyle a}\\n  . In multiplicative notation, the elements of the group are\\n\\nwhere \\n  \\n    \\n      \\n        \\n          a\\n          \\n            2\\n          \\n        \\n      \\n    \\n    {\\\\displaystyle a^{2}}\\n   means \\n  \\n    \\n      \\n        a\\n        ⋅\\n        a\\n      \\n    \\n    {\\\\displaystyle a\\\\cdot a}\\n  , \\n  \\n    \\n      \\n        \\n          a\\n          \\n            −\\n            3\\n          \\n        \\n      \\n    \\n    {\\\\displaystyle a^{-3}}\\n   stands for \\n  \\n    \\n      \\n        \\n          a\\n          \\n            −\\n            1\\n          \\n        \\n        ⋅\\n        \\n          a\\n          \\n            −\\n            1\\n          \\n        \\n        ⋅\\n        \\n          a\\n          \\n            −\\n            1\\n          \\n        \\n        =\\n        (\\n        a\\n        ⋅\\n        a\\n        ⋅\\n        a\\n        \\n          )\\n          \\n            −\\n            1\\n          \\n        \\n      \\n    \\n    {\\\\displaystyle a^{-1}\\\\cdot a^{-1}\\\\cdot a^{-1}=(a\\\\cdot a\\\\cdot a)^{-1}}\\n  , etc. Such an element \\n  \\n    \\n      \\n        a\\n      \\n    \\n    {\\\\displaystyle a}\\n   is called a generator or a primitive element of the group. In additive notation, the requirement for an element to be primitive is that each element of the group can be written as\\n\\nIn the groups \\n  \\n    \\n      \\n        (\\n        \\n          Z\\n        \\n        \\n          /\\n        \\n        n\\n        \\n          Z\\n        \\n        ,\\n        +\\n        )\\n      \\n    \\n    {\\\\displaystyle (\\\\mathbb {Z} /n\\\\mathbb {Z} ,+)}\\n   introduced above, the element \\n  \\n    \\n      \\n        1\\n      \\n    \\n    {\\\\displaystyle 1}\\n   is primitive, so these groups are cyclic. Indeed, each element is expressible as a sum all of whose terms are \\n  \\n    \\n      \\n        1\\n      \\n    \\n    {\\\\displaystyle 1}\\n  . Any cyclic group with \\n  \\n    \\n      \\n        n\\n      \\n    \\n    {\\\\displaystyle n}\\n   elements is isomorphic to this group. A second example for cyclic groups is the group of \\n  \\n    \\n      \\n        n\\n      \\n    \\n    {\\\\displaystyle n}\\n  th complex roots of unity, given by complex numbers \\n  \\n    \\n      \\n        z\\n      \\n    \\n    {\\\\displaystyle z}\\n   satisfying \\n  \\n    \\n      \\n        \\n          z\\n          \\n            n\\n          \\n        \\n        =\\n        1\\n      \\n    \\n    {\\\\displaystyle z^{n}=1}\\n  . These numbers can be visualized as the vertices on a regular \\n  \\n    \\n      \\n        n\\n      \\n    \\n    {\\\\displaystyle n}\\n  -gon, as shown in blue in the image for \\n  \\n    \\n      \\n        n\\n        =\\n        6\\n      \\n    \\n    {\\\\displaystyle n=6}\\n  . The group operation is multiplication of complex numbers. In the picture, multiplying with \\n  \\n    \\n      \\n        z\\n      \\n    \\n    {\\\\displaystyle z}\\n   corresponds to a counter-clockwise rotation by 60°. From field theory, the group \\n  \\n    \\n      \\n        \\n          \\n            F\\n          \\n          \\n            p\\n          \\n          \\n            ×\\n          \\n        \\n      \\n    \\n    {\\\\displaystyle \\\\mathbb {F} _{p}^{\\\\times }}\\n   is cyclic for prime \\n  \\n    \\n      \\n        p\\n      \\n    \\n    {\\\\displaystyle p}\\n  : for example, if \\n  \\n    \\n      \\n        p\\n        =\\n        5\\n      \\n    \\n    {\\\\displaystyle p=5}\\n  , \\n  \\n    \\n      \\n        3\\n      \\n    \\n    {\\\\displaystyle 3}\\n   is a generator since \\n  \\n    \\n      \\n        \\n          3\\n          \\n            1\\n          \\n        \\n        =\\n        3\\n      \\n    \\n    {\\\\displaystyle 3^{1}=3}\\n  , \\n  \\n    \\n      \\n        \\n          3\\n          \\n            2\\n          \\n        \\n        =\\n        9\\n        ≡\\n        4\\n      \\n    \\n    {\\\\displaystyle 3^{2}=9\\\\equiv 4}\\n  , \\n  \\n    \\n      \\n        \\n          3\\n          \\n            3\\n          \\n        \\n        ≡\\n        2\\n      \\n    \\n    {\\\\displaystyle 3^{3}\\\\equiv 2}\\n  , and \\n  \\n    \\n      \\n        \\n          3\\n          \\n            4\\n          \\n        \\n        ≡\\n        1\\n      \\n    \\n    {\\\\displaystyle 3^{4}\\\\equiv 1}\\n  .\\nSome cyclic groups have an infinite number of elements. In these groups, for every non-zero element \\n  \\n    \\n      \\n        a\\n      \\n    \\n    {\\\\displaystyle a}\\n  , all the powers of \\n  \\n    \\n      \\n        a\\n      \\n    \\n    {\\\\displaystyle a}\\n   are distinct; despite the name \"cyclic group\", the powers of the elements do not cycle. An infinite cyclic group is isomorphic to \\n  \\n    \\n      \\n        (\\n        \\n          Z\\n        \\n        ,\\n        +\\n        )\\n      \\n    \\n    {\\\\displaystyle (\\\\mathbb {Z} ,+)}\\n  , the group of integers under addition introduced above. As these two prototypes are both abelian, so are all cyclic groups.\\nThe study of finitely generated abelian groups is quite mature, including the fundamental theorem of finitely generated abelian groups; and reflecting this state of affairs, many group-related notions, such as center and commutator, describe the extent to which a given group is not abelian.\\n\\nSymmetry groups\\nSymmetry groups are groups consisting of symmetries of given mathematical objects, principally geometric entities, such as the symmetry group of the square given as an introductory example above, although they also arise in algebra such as the symmetries among the roots of polynomial equations dealt with in Galois theory (see below). Conceptually, group theory can be thought of as the study of symmetry. Symmetries in mathematics greatly simplify the study of geometrical or analytical objects. A group is said to act on another mathematical object X if every group element can be associated to some operation on X and the composition of these operations follows the group law. For example, an element of the (2,3,7) triangle group acts on a triangular tiling of the hyperbolic plane by permuting the triangles. By a group action, the group pattern is connected to the structure of the object being acted on.\\nIn chemical fields, such as crystallography, space groups and point groups describe molecular symmetries and crystal symmetries. These symmetries underlie the chemical and physical behavior of these systems, and group theory enables simplification of quantum mechanical analysis of these properties. For example, group theory is used to show that optical transitions between certain quantum levels cannot occur simply because of the symmetry of the states involved.Group theory helps predict the changes in physical properties that occur when a material undergoes a phase transition, for example, from a cubic to a tetrahedral crystalline form. An example is ferroelectric materials, where the change from a paraelectric to a ferroelectric state occurs at the Curie temperature and is related to a change from the high-symmetry paraelectric state to the lower symmetry ferroelectric state, accompanied by a so-called soft phonon mode, a vibrational lattice mode that goes to zero frequency at the transition.Such spontaneous symmetry breaking has found further application in elementary particle physics, where its occurrence is related to the appearance of Goldstone bosons.\\nFinite symmetry groups such as the Mathieu groups are used in coding theory, which is in turn applied in error correction of transmitted data, and in CD players. Another application is differential Galois theory, which characterizes functions having antiderivatives of a prescribed form, giving group-theoretic criteria for when solutions of certain differential equations are well-behaved. Geometric properties that remain stable under group actions are investigated in (geometric) invariant theory.\\n\\nGeneral linear group and representation theory\\nMatrix groups consist of matrices together with matrix multiplication. The general linear group \\n  \\n    \\n      \\n        \\n          G\\n          L\\n        \\n        (\\n        n\\n        ,\\n        \\n          R\\n        \\n        )\\n      \\n    \\n    {\\\\displaystyle \\\\mathrm {GL} (n,\\\\mathbb {R} )}\\n   consists of all invertible \\n  \\n    \\n      \\n        n\\n      \\n    \\n    {\\\\displaystyle n}\\n  -by-\\n  \\n    \\n      \\n        n\\n      \\n    \\n    {\\\\displaystyle n}\\n   matrices with real entries. Its subgroups are referred to as matrix groups or linear groups. The dihedral group example mentioned above can be viewed as a (very small) matrix group. Another important matrix group is the special orthogonal group \\n  \\n    \\n      \\n        \\n          S\\n          O\\n        \\n        (\\n        n\\n        )\\n      \\n    \\n    {\\\\displaystyle \\\\mathrm {SO} (n)}\\n  . It describes all possible rotations in \\n  \\n    \\n      \\n        n\\n      \\n    \\n    {\\\\displaystyle n}\\n   dimensions. Rotation matrices in this group are used in computer graphics.Representation theory is both an application of the group concept and important for a deeper understanding of groups. It studies the group by its group actions on other spaces. A broad class of group representations are linear representations in which the group acts on a vector space, such as the three-dimensional Euclidean space \\n  \\n    \\n      \\n        \\n          \\n            R\\n          \\n          \\n            3\\n          \\n        \\n      \\n    \\n    {\\\\displaystyle \\\\mathbb {R} ^{3}}\\n  . A representation of a group \\n  \\n    \\n      \\n        G\\n      \\n    \\n    {\\\\displaystyle G}\\n   on an \\n  \\n    \\n      \\n        n\\n      \\n    \\n    {\\\\displaystyle n}\\n  -dimensional real vector space is simply a group homomorphism\\n\\n  \\n    \\n      \\n        ρ\\n        :\\n        G\\n        →\\n        \\n          G\\n          L\\n        \\n        (\\n        n\\n        ,\\n        \\n          R\\n        \\n        )\\n      \\n    \\n    {\\\\displaystyle \\\\rho :G\\\\to \\\\mathrm {GL} (n,\\\\mathbb {R} )}\\n  \\nfrom the group to the general linear group. This way, the group operation, which may be abstractly given, translates to the multiplication of matrices making it accessible to explicit computations.A group action gives further means to study the object being acted on. On the other hand, it also yields information about the group. Group representations are an organizing principle in the theory of finite groups, Lie groups, algebraic groups and topological groups, especially (locally) compact groups.\\n\\nGalois groups\\nGalois groups were developed to help solve polynomial equations by capturing their symmetry features. For example, the solutions of the quadratic equation \\n  \\n    \\n      \\n        a\\n        \\n          x\\n          \\n            2\\n          \\n        \\n        +\\n        b\\n        x\\n        +\\n        c\\n        =\\n        0\\n      \\n    \\n    {\\\\displaystyle ax^{2}+bx+c=0}\\n   are given by\\n\\nEach solution can be obtained by replacing the \\n  \\n    \\n      \\n        ±\\n      \\n    \\n    {\\\\displaystyle \\\\pm }\\n   sign by \\n  \\n    \\n      \\n        +\\n      \\n    \\n    {\\\\displaystyle +}\\n   or \\n  \\n    \\n      \\n        −\\n      \\n    \\n    {\\\\displaystyle -}\\n  ; analogous formulae are known for cubic and quartic equations, but do not exist in general for degree 5 and higher. In the quadratic formula, changing the sign (permuting the resulting two solutions) can be viewed as a (very simple) group operation. Analogous Galois groups act on the solutions of higher-degree polynomials and are closely related to the existence of formulas for their solution. Abstract properties of these groups (in particular their solvability) give a criterion for the ability to express the solutions of these polynomials using solely addition, multiplication, and roots similar to the formula above.Modern Galois theory generalizes the above type of Galois groups by shifting to field theory and considering field extensions formed as the splitting field of a polynomial. This theory establishes—via the fundamental theorem of Galois theory—a precise relationship between fields and groups, underlining once again the ubiquity of groups in mathematics.\\n\\nFinite groups\\nA group is called finite if it has a finite number of elements. The number of elements is called the order of the group. An important class is the symmetric groups \\n  \\n    \\n      \\n        \\n          \\n            S\\n          \\n          \\n            N\\n          \\n        \\n      \\n    \\n    {\\\\displaystyle \\\\mathrm {S} _{N}}\\n  , the groups of permutations of \\n  \\n    \\n      \\n        N\\n      \\n    \\n    {\\\\displaystyle N}\\n   objects. For example, the symmetric group on 3 letters \\n  \\n    \\n      \\n        \\n          \\n            S\\n          \\n          \\n            3\\n          \\n        \\n      \\n    \\n    {\\\\displaystyle \\\\mathrm {S} _{3}}\\n   is the group of all possible reorderings of the objects. The three letters ABC can be reordered into ABC, ACB, BAC, BCA, CAB, CBA, forming in total 6 (factorial of 3) elements. The group operation is composition of these reorderings, and the identity element is the reordering operation that leaves the order unchanged. This class is fundamental insofar as any finite group can be expressed as a subgroup of a symmetric group \\n  \\n    \\n      \\n        \\n          \\n            S\\n          \\n          \\n            N\\n          \\n        \\n      \\n    \\n    {\\\\displaystyle \\\\mathrm {S} _{N}}\\n   for a suitable integer \\n  \\n    \\n      \\n        N\\n      \\n    \\n    {\\\\displaystyle N}\\n  , according to Cayley\\'s theorem. Parallel to the group of symmetries of the square above, \\n  \\n    \\n      \\n        \\n          \\n            S\\n          \\n          \\n            3\\n          \\n        \\n      \\n    \\n    {\\\\displaystyle \\\\mathrm {S} _{3}}\\n   can also be interpreted as the group of symmetries of an equilateral triangle.\\nThe order of an element \\n  \\n    \\n      \\n        a\\n      \\n    \\n    {\\\\displaystyle a}\\n   in a group \\n  \\n    \\n      \\n        G\\n      \\n    \\n    {\\\\displaystyle G}\\n   is the least positive integer \\n  \\n    \\n      \\n        n\\n      \\n    \\n    {\\\\displaystyle n}\\n   such that \\n  \\n    \\n      \\n        \\n          a\\n          \\n            n\\n          \\n        \\n        =\\n        e\\n      \\n    \\n    {\\\\displaystyle a^{n}=e}\\n  , where \\n  \\n    \\n      \\n        \\n          a\\n          \\n            n\\n          \\n        \\n      \\n    \\n    {\\\\displaystyle a^{n}}\\n   represents\\n\\nthat is, application of the operation \"\\n  \\n    \\n      \\n        ⋅\\n      \\n    \\n    {\\\\displaystyle \\\\cdot }\\n  \" to \\n  \\n    \\n      \\n        n\\n      \\n    \\n    {\\\\displaystyle n}\\n   copies of \\n  \\n    \\n      \\n        a\\n      \\n    \\n    {\\\\displaystyle a}\\n  . (If \"\\n  \\n    \\n      \\n        ⋅\\n      \\n    \\n    {\\\\displaystyle \\\\cdot }\\n  \" represents multiplication, then \\n  \\n    \\n      \\n        \\n          a\\n          \\n            n\\n          \\n        \\n      \\n    \\n    {\\\\displaystyle a^{n}}\\n   corresponds to the \\n  \\n    \\n      \\n        n\\n      \\n    \\n    {\\\\displaystyle n}\\n  th power of \\n  \\n    \\n      \\n        a\\n      \\n    \\n    {\\\\displaystyle a}\\n  .) In infinite groups, such an \\n  \\n    \\n      \\n        n\\n      \\n    \\n    {\\\\displaystyle n}\\n   may not exist, in which case the order of \\n  \\n    \\n      \\n        a\\n      \\n    \\n    {\\\\displaystyle a}\\n   is said to be infinity. The order of an element equals the order of the cyclic subgroup generated by this element.\\nMore sophisticated counting techniques, for example, counting cosets, yield more precise statements about finite groups: Lagrange\\'s Theorem states that for a finite group \\n  \\n    \\n      \\n        G\\n      \\n    \\n    {\\\\displaystyle G}\\n   the order of any finite subgroup \\n  \\n    \\n      \\n        H\\n      \\n    \\n    {\\\\displaystyle H}\\n   divides the order of \\n  \\n    \\n      \\n        G\\n      \\n    \\n    {\\\\displaystyle G}\\n  . The Sylow theorems give a partial converse.\\nThe dihedral group \\n  \\n    \\n      \\n        \\n          \\n            D\\n          \\n          \\n            4\\n          \\n        \\n      \\n    \\n    {\\\\displaystyle \\\\mathrm {D} _{4}}\\n   of symmetries of a square is a finite group of order 8. In this group, the order of \\n  \\n    \\n      \\n        \\n          r\\n          \\n            1\\n          \\n        \\n      \\n    \\n    {\\\\displaystyle r_{1}}\\n   is 4, as is the order of the subgroup \\n  \\n    \\n      \\n        R\\n      \\n    \\n    {\\\\displaystyle R}\\n   that this element generates. The order of the reflection elements \\n  \\n    \\n      \\n        \\n          f\\n          \\n            \\n              v\\n            \\n          \\n        \\n      \\n    \\n    {\\\\displaystyle f_{\\\\mathrm {v} }}\\n   etc. is 2. Both orders divide 8, as predicted by Lagrange\\'s theorem. The groups \\n  \\n    \\n      \\n        \\n          \\n            F\\n          \\n          \\n            p\\n          \\n          \\n            ×\\n          \\n        \\n      \\n    \\n    {\\\\displaystyle \\\\mathbb {F} _{p}^{\\\\times }}\\n   of multiplication modulo a prime \\n  \\n    \\n      \\n        p\\n      \\n    \\n    {\\\\displaystyle p}\\n   have order \\n  \\n    \\n      \\n        p\\n        −\\n        1\\n      \\n    \\n    {\\\\displaystyle p-1}\\n  .\\n\\nFinite abelian groups\\nAny finite abelian group is isomorphic to a product of finite cyclic groups; this statement is part of the fundamental theorem of finitely generated abelian groups.\\nAny group of prime order \\n  \\n    \\n      \\n        p\\n      \\n    \\n    {\\\\displaystyle p}\\n   is isomorphic to the cyclic group \\n  \\n    \\n      \\n        \\n          \\n            Z\\n          \\n          \\n            p\\n          \\n        \\n      \\n    \\n    {\\\\displaystyle \\\\mathrm {Z} _{p}}\\n   (a consequence of Lagrange\\'s theorem).  \\nAny group of order \\n  \\n    \\n      \\n        \\n          p\\n          \\n            2\\n          \\n        \\n      \\n    \\n    {\\\\displaystyle p^{2}}\\n   is abelian, isomorphic to \\n  \\n    \\n      \\n        \\n          \\n            Z\\n          \\n          \\n            \\n              p\\n              \\n                2\\n              \\n            \\n          \\n        \\n      \\n    \\n    {\\\\displaystyle \\\\mathrm {Z} _{p^{2}}}\\n   or \\n  \\n    \\n      \\n        \\n          \\n            Z\\n          \\n          \\n            p\\n          \\n        \\n        ×\\n        \\n          \\n            Z\\n          \\n          \\n            p\\n          \\n        \\n      \\n    \\n    {\\\\displaystyle \\\\mathrm {Z} _{p}\\\\times \\\\mathrm {Z} _{p}}\\n  .\\nBut there exist nonabelian groups of order \\n  \\n    \\n      \\n        \\n          p\\n          \\n            3\\n          \\n        \\n      \\n    \\n    {\\\\displaystyle p^{3}}\\n  ; the dihedral group \\n  \\n    \\n      \\n        \\n          \\n            D\\n          \\n          \\n            4\\n          \\n        \\n      \\n    \\n    {\\\\displaystyle \\\\mathrm {D} _{4}}\\n   of order \\n  \\n    \\n      \\n        \\n          2\\n          \\n            3\\n          \\n        \\n      \\n    \\n    {\\\\displaystyle 2^{3}}\\n   above is an example.\\n\\nSimple groups\\nWhen a group \\n  \\n    \\n      \\n        G\\n      \\n    \\n    {\\\\displaystyle G}\\n   has a normal subgroup \\n  \\n    \\n      \\n        N\\n      \\n    \\n    {\\\\displaystyle N}\\n   other than \\n  \\n    \\n      \\n        {\\n        1\\n        }\\n      \\n    \\n    {\\\\displaystyle \\\\{1\\\\}}\\n   and \\n  \\n    \\n      \\n        G\\n      \\n    \\n    {\\\\displaystyle G}\\n   itself, questions about \\n  \\n    \\n      \\n        G\\n      \\n    \\n    {\\\\displaystyle G}\\n   can sometimes be reduced to questions about \\n  \\n    \\n      \\n        N\\n      \\n    \\n    {\\\\displaystyle N}\\n   and \\n  \\n    \\n      \\n        G\\n        \\n          /\\n        \\n        N\\n      \\n    \\n    {\\\\displaystyle G/N}\\n  .  A nontrivial group is called simple if it has no such normal subgroup.  Finite simple groups are to finite groups as prime numbers are to positive integers: they serve as building blocks, in a sense made precise by the Jordan–Hölder theorem.\\n\\nClassification of finite simple groups\\nComputer algebra systems have been used to list all groups of order up to 2000.\\nBut classifying all finite groups is a problem considered too hard to be solved.\\nThe classification of all finite simple groups was a major achievement in contemporary group theory.  There are several infinite families of such groups, as well as 26 \"sporadic groups\" that do not belong to any of the families.  The largest sporadic group is called the monster group.   The monstrous moonshine conjectures, proved by Richard Borcherds, relate the monster group to certain modular functions.The gap between the classification of simple groups and the classification of all groups lies in the extension problem.\\n\\nGroups with additional structure\\nAn equivalent definition of group consists of replacing the \"there exist\" part of the group axioms by operations whose result is the element that must exist. So, a group is a set \\n  \\n    \\n      \\n        G\\n      \\n    \\n    {\\\\displaystyle G}\\n   equipped with a binary operation \\n  \\n    \\n      \\n        G\\n        ×\\n        G\\n        →\\n        G\\n      \\n    \\n    {\\\\displaystyle G\\\\times G\\\\rightarrow G}\\n   (the group operation), a unary operation \\n  \\n    \\n      \\n        G\\n        →\\n        G\\n      \\n    \\n    {\\\\displaystyle G\\\\rightarrow G}\\n   (which provides the inverse) and a nullary operation, which has no operand and results in the identity element. Otherwise, the group axioms are exactly the same. This variant of the definition avoids existential quantifiers and is used in computing with groups and for computer-aided proofs.\\nThis way of defining groups lends itself to generalizations such as the notion of a group objects in a category. Briefly this is an object (that is, examples of another mathematical structure) which comes with transformations (called morphisms) that mimic the group axioms.\\n\\nTopological groups\\nSome topological spaces may be endowed with a group law. In order for the group law and the topology to interweave well, the group operations must be continuous functions; informally, \\n  \\n    \\n      \\n        g\\n        ⋅\\n        h\\n      \\n    \\n    {\\\\displaystyle g\\\\cdot h}\\n   and \\n  \\n    \\n      \\n        \\n          g\\n          \\n            −\\n            1\\n          \\n        \\n      \\n    \\n    {\\\\displaystyle g^{-1}}\\n   must not vary wildly if \\n  \\n    \\n      \\n        g\\n      \\n    \\n    {\\\\displaystyle g}\\n   and \\n  \\n    \\n      \\n        h\\n      \\n    \\n    {\\\\displaystyle h}\\n   vary only a little. Such groups are called topological groups, and they are the group objects in the category of topological spaces. The most basic examples are the group of real numbers under addition and the group of nonzero real numbers under multiplication. Similar examples can be formed from any other topological field, such as the field of complex numbers or the field of p-adic numbers. These examples are locally compact, so they have Haar measures and can be studied via harmonic analysis. Other locally compact topological groups include the group of points of an algebraic group over a local field or adele ring; these are basic to number theory Galois groups of infinite algebraic field extensions are equipped with the Krull topology, which plays a role in infinite Galois theory. A generalization used in algebraic geometry is the étale fundamental group.\\n\\nLie groups\\nA Lie group is a group that also has the structure of a differentiable manifold; informally, this means that it looks locally like a Euclidean space of some fixed dimension. Again, the definition requires the additional structure, here the manifold structure, to be compatible: the multiplication and inverse maps are required to be smooth.\\nA standard example is the general linear group introduced above: it is an open subset of the space of all \\n  \\n    \\n      \\n        n\\n      \\n    \\n    {\\\\displaystyle n}\\n  -by-\\n  \\n    \\n      \\n        n\\n      \\n    \\n    {\\\\displaystyle n}\\n   matrices, because it is given by the inequality\\n\\nwhere \\n  \\n    \\n      \\n        A\\n      \\n    \\n    {\\\\displaystyle A}\\n   denotes an \\n  \\n    \\n      \\n        n\\n      \\n    \\n    {\\\\displaystyle n}\\n  -by-\\n  \\n    \\n      \\n        n\\n      \\n    \\n    {\\\\displaystyle n}\\n   matrix.Lie groups are of fundamental importance in modern physics: Noether\\'s theorem links continuous symmetries to conserved quantities. Rotation, as well as translations in space and time, are basic symmetries of the laws of mechanics. They can, for instance, be used to construct simple models—imposing, say, axial symmetry on a situation will typically lead to significant simplification in the equations one needs to solve to provide a physical description. Another example is the group of Lorentz transformations, which relate measurements of time and velocity of two observers in motion relative to each other. They can be deduced in a purely group-theoretical way, by expressing the transformations as a rotational symmetry of Minkowski space. The latter serves—in the absence of significant gravitation—as a model of spacetime in special relativity. The full symmetry group of Minkowski space, i.e., including translations, is known as the Poincaré group. By the above, it plays a pivotal role in special relativity and, by implication, for quantum field theories. Symmetries that vary with location are central to the modern description of physical interactions with the help of gauge theory. An important example of a gauge theory is the Standard Model, which describes three of the four known fundamental forces and classifies all known elementary particles.\\n\\nGeneralizations\\nIn abstract algebra, more general structures are defined by relaxing some of the axioms defining a group. For example, if the requirement that every element has an inverse is eliminated, the resulting algebraic structure is called a monoid. The natural numbers \\n  \\n    \\n      \\n        \\n          N\\n        \\n      \\n    \\n    {\\\\displaystyle \\\\mathbb {N} }\\n   (including zero) under addition form a monoid, as do the nonzero integers under multiplication \\n  \\n    \\n      \\n        (\\n        \\n          Z\\n        \\n        ∖\\n        {\\n        0\\n        }\\n        ,\\n        ⋅\\n        )\\n      \\n    \\n    {\\\\displaystyle (\\\\mathbb {Z} \\\\smallsetminus \\\\{0\\\\},\\\\cdot )}\\n  , see above. There is a general method to formally add inverses to elements to any (abelian) monoid, much the same way as \\n  \\n    \\n      \\n        (\\n        \\n          Q\\n        \\n        ∖\\n        {\\n        0\\n        }\\n        ,\\n        ⋅\\n        )\\n      \\n    \\n    {\\\\displaystyle (\\\\mathbb {Q} \\\\smallsetminus \\\\{0\\\\},\\\\cdot )}\\n   is derived from \\n  \\n    \\n      \\n        (\\n        \\n          Z\\n        \\n        ∖\\n        {\\n        0\\n        }\\n        ,\\n        ⋅\\n        )\\n      \\n    \\n    {\\\\displaystyle (\\\\mathbb {Z} \\\\smallsetminus \\\\{0\\\\},\\\\cdot )}\\n  , known as the Grothendieck group.\\nGroupoids are similar to groups except that the composition \\n  \\n    \\n      \\n        a\\n        ⋅\\n        b\\n      \\n    \\n    {\\\\displaystyle a\\\\cdot b}\\n   need not be defined for all \\n  \\n    \\n      \\n        a\\n      \\n    \\n    {\\\\displaystyle a}\\n   and \\n  \\n    \\n      \\n        b\\n      \\n    \\n    {\\\\displaystyle b}\\n  . They arise in the study of more complicated forms of symmetry, often in topological and analytical structures, such as the fundamental groupoid or stacks. Finally, it is possible to generalize any of these concepts by replacing the binary operation with an arbitrary n-ary one (i.e., an operation taking n arguments). With the proper generalization of the group axioms this gives rise to an n-ary group. The table gives a list of several structures generalizing groups.\\n\\nSee also\\nList of group theory topics\\n\\nNotes\\nCitations\\nReferences\\nGeneral references\\nArtin, Michael (2018), Algebra, Prentice Hall, ISBN 978-0-13-468960-9, Chapter 2 contains an undergraduate-level exposition of the notions covered in this article.\\nCook, Mariana R. (2009), Mathematicians: An Outer View of the Inner World, Princeton, N.J.: Princeton University Press, ISBN 978-0-691-13951-7\\nHall, G. G. (1967), Applied Group Theory, American Elsevier Publishing Co., Inc., New York, MR 0219593, an elementary introduction.\\nHerstein, Israel Nathan (1996), Abstract Algebra (3rd ed.), Upper Saddle River, NJ: Prentice Hall Inc., ISBN 978-0-13-374562-7, MR 1375019.\\nHerstein, Israel Nathan (1975), Topics in Algebra (2nd ed.), Lexington, Mass.: Xerox College Publishing, MR 0356988.\\nLang, Serge (2002), Algebra, Graduate Texts in Mathematics, vol. 211 (Revised third ed.), New York: Springer-Verlag, ISBN 978-0-387-95385-4, MR 1878556\\nLang, Serge (2005), Undergraduate Algebra (3rd ed.), Berlin, New York: Springer-Verlag, ISBN 978-0-387-22025-3.\\nLedermann, Walter (1953), Introduction to the Theory of Finite Groups, Oliver and Boyd, Edinburgh and London, MR 0054593.\\nLedermann, Walter (1973), Introduction to Group Theory, New York: Barnes and Noble, OCLC 795613.\\nRobinson, Derek John Scott (1996), A Course in the Theory of Groups, Berlin, New York: Springer-Verlag, ISBN 978-0-387-94461-6.\\n\\nSpecial references\\nArtin, Emil (1998), Galois Theory, New York: Dover Publications, ISBN 978-0-486-62342-9.\\nAschbacher, Michael (2004), \"The status of the classification of the finite simple groups\" (PDF), Notices of the American Mathematical Society, 51 (7): 736–740.\\nAwodey, Steve (2010), Category Theory, Oxford University Press, ISBN 978-0-19-958736-0\\nBehler, Florian; Wickleder, Mathias S.; Christoffers, Jens (2014), \"Biphenyl and bimesityl tetrasulfonic acid – new linker molecules for coordination polymers\", Arkivoc, 2015 (2): 64–75, doi:10.3998/ark.5550190.p008.911\\nBersuker, Isaac (2006), The Jahn–Teller Effect, Cambridge University Press, ISBN 0-521-82212-2.\\nBesche, Hans Ulrich; Eick, Bettina; O\\'Brien, E. A. (2001), \"The groups of order at most 2000\", Electronic Research Announcements of the American Mathematical Society, 7: 1–4, doi:10.1090/S1079-6762-01-00087-7, MR 1826989.\\nBishop, David H. L. (1993), Group Theory and Chemistry, New York: Dover Publications, ISBN 978-0-486-67355-4.\\nBorel, Armand (1991), Linear Algebraic Groups, Graduate Texts in Mathematics, vol. 126 (2nd ed.), Berlin, New York: Springer-Verlag, ISBN 978-0-387-97370-8, MR 1102012.\\nCarter, Roger W. (1989), Simple Groups of Lie Type, New York: John Wiley & Sons, ISBN 978-0-471-50683-6.\\nChancey, C. C.; O\\'Brien, M. C. M. (2021), The Jahn–Teller Effect in C60 and Other Icosahedral Complexes, Princeton University Press, ISBN 978-0-691-22534-0\\nConway, John Horton; Delgado Friedrichs, Olaf; Huson, Daniel H.; Thurston, William P. (2001), \"On three-dimensional space groups\", Beiträge zur Algebra und Geometrie, 42 (2): 475–507, arXiv:math.MG/9911185, MR 1865535.\\nCoornaert, M.; Delzant, T.; Papadopoulos, A. (1990), Géométrie et théorie des groupes [Geometry and Group Theory], Lecture Notes in Mathematics (in French), vol. 1441, Berlin, New York: Springer-Verlag, ISBN 978-3-540-52977-4, MR 1075994.\\nDenecke, Klaus; Wismath, Shelly L. (2002), Universal Algebra and Applications in Theoretical Computer Science, London: CRC Press, ISBN 978-1-58488-254-1.\\nDove, Martin T (2003), Structure and Dynamics: An Atomic View of Materials, Oxford University Press, p. 265, ISBN 0-19-850678-3.\\nDudek, Wiesław A. (2001), \"On some old and new problems in n-ary groups\" (PDF), Quasigroups and Related Systems, 8: 15–36, MR 1876783.\\nEliel, Ernest; Wilen, Samuel; Mander, Lewis (1994), Stereochemistry of Organic Compounds, Wiley, ISBN 978-0-471-01670-0\\nEllis, Graham (2019), \"6.4 Triangle groups\", An Invitation to Computational Homotopy, Oxford University Press, pp. 441–444, doi:10.1093/oso/9780198832973.001.0001, ISBN 978-0-19-883298-0, MR 3971587.\\nFrucht, R. (1939), \"Herstellung von Graphen mit vorgegebener abstrakter Gruppe [Construction of graphs with prescribed group]\", Compositio Mathematica (in German), 6: 239–50, archived from the original on 2008-12-01.\\nFulton, William; Harris, Joe (1991), Representation Theory: A First Course, Graduate Texts in Mathematics, Readings in Mathematics, vol. 129, New York: Springer-Verlag, ISBN 978-0-387-97495-8, MR 1153249\\nGoldstein, Herbert (1980), Classical Mechanics (2nd ed.), Reading, MA: Addison-Wesley Publishing, pp. 588–596, ISBN 0-201-02918-9.\\nGollmann, Dieter (2011), Computer Security (2nd ed.), West Sussex, England: John Wiley & Sons, Ltd., ISBN 978-0-470-74115-3\\nHatcher, Allen (2002), Algebraic Topology, Cambridge University Press, ISBN 978-0-521-79540-1.\\nHusain, Taqdir (1966), Introduction to Topological Groups, Philadelphia: W.B. Saunders Company, ISBN 978-0-89874-193-3\\nJahn, H.; Teller, E. (1937), \"Stability of polyatomic molecules in degenerate electronic states. I. Orbital degeneracy\", Proceedings of the Royal Society A, 161 (905): 220–235, Bibcode:1937RSPSA.161..220J, doi:10.1098/rspa.1937.0142.\\nKuipers, Jack B. (1999), Quaternions and Rotation Sequences: A Primer with Applications to Orbits, Aerospace, and Virtual Reality, Princeton University Press, Bibcode:1999qrsp.book.....K, ISBN 978-0-691-05872-6, MR 1670862.\\nKuga, Michio (1993), Galois\\' Dream: Group Theory and Differential Equations, Boston, MA: Birkhäuser Boston, ISBN 978-0-8176-3688-3, MR 1199112.\\nKurzweil, Hans; Stellmacher, Bernd (2004), The Theory of Finite Groups, Universitext, Berlin, New York: Springer-Verlag, ISBN 978-0-387-40510-0, MR 2014408.\\nLay, David (2003), Linear Algebra and Its Applications, Addison-Wesley, ISBN 978-0-201-70970-4.\\nMac Lane, Saunders (1998), Categories for the Working Mathematician (2nd ed.), Berlin, New York: Springer-Verlag, ISBN 978-0-387-98403-2.\\nMagnus, Wilhelm; Karrass, Abraham; Solitar, Donald (2004) [1966], Combinatorial Group Theory: Presentations of Groups in Terms of Generators and Relations, Courier, ISBN 978-0-486-43830-6\\nMathSciNet (2021), List of papers reviewed on MathSciNet on \"Group theory and its generalizations\" (MSC code 20), published in 2020, retrieved 14 May 2021\\nMichler, Gerhard (2006), Theory of Finite Simple Groups, Cambridge University Press, ISBN 978-0-521-86625-5.\\nMilne, James S. (1980), Étale Cohomology, Princeton University Press, ISBN 978-0-691-08238-7\\nMumford, David; Fogarty, J.; Kirwan, F. (1994), Geometric Invariant Theory, vol. 34 (3rd ed.), Berlin, New York: Springer-Verlag, ISBN 978-3-540-56963-3, MR 1304906.\\nNaber, Gregory L. (2003), The Geometry of Minkowski Spacetime, New York: Dover Publications, ISBN 978-0-486-43235-9, MR 2044239.\\nNeukirch, Jürgen (1999), Algebraic Number Theory, Grundlehren der mathematischen Wissenschaften, vol. 322, Berlin: Springer-Verlag, ISBN 978-3-540-65399-8, MR 1697859, Zbl 0956.11021\\nRomanowska, A. B.; Smith, J. D. H. (2002), Modes, World Scientific, ISBN 978-981-02-4942-7.\\nRonan, Mark (2007), Symmetry and the Monster: The Story of One of the Greatest Quests of Mathematics, Oxford University Press, ISBN 978-0-19-280723-6.\\nRosen, Kenneth H. (2000), Elementary Number Theory and its Applications (4th ed.), Addison-Wesley, ISBN 978-0-201-87073-2, MR 1739433.\\nRudin, Walter (1990), Fourier Analysis on Groups, Wiley Classics, Wiley-Blackwell, ISBN 0-471-52364-X.\\nSeress, Ákos (1997), \"An Introduction to Computational Group Theory\" (PDF), Notices of the American Mathematical Society, 44 (6): 671–679, MR 1452069.\\nSerre, Jean-Pierre (1977), Linear Representations of Finite Groups, Berlin, New York: Springer-Verlag, ISBN 978-0-387-90190-9, MR 0450380.\\nSchwartzman, Steven (1994), The Words of Mathematics: An Etymological Dictionary of Mathematical Terms Used in English, Mathematical Association of America, ISBN 978-0-88385-511-9.\\nShatz, Stephen S. (1972), Profinite Groups, Arithmetic, and Geometry, Princeton University Press, ISBN 978-0-691-08017-8, MR 0347778\\nSimons, Jack (2003), An Introduction to Theoretical Chemistry, Cambridge University Press, ISBN 978-0-521-53047-7\\nSolomon, Ronald (2018), \"The classification of finite simple groups: A progress report\", Notices of the AMS, 65 (6): 1, doi:10.1090/noti1689\\nStewart, Ian (2015), Galois Theory (4th ed.), CRC Press, ISBN 978-1-4822-4582-0\\nSuzuki, Michio (1951), \"On the lattice of subgroups of finite groups\", Transactions of the American Mathematical Society, 70 (2): 345–371, doi:10.2307/1990375, JSTOR 1990375.\\nWarner, Frank (1983), Foundations of Differentiable Manifolds and Lie Groups, Berlin, New York: Springer-Verlag, ISBN 978-0-387-90894-6.\\nWeibel, Charles A. (1994), An introduction to homological algebra, Cambridge Studies in Advanced Mathematics, vol. 38, Cambridge University Press, ISBN 978-0-521-55987-4, MR 1269324, OCLC 36131259\\nWeinberg, Steven (1972), Gravitation and Cosmology, New York: John Wiley & Sons, ISBN 0-471-92567-5.\\nWelsh, Dominic (1989), Codes and Cryptography, Oxford: Clarendon Press, ISBN 978-0-19-853287-3.\\nWeyl, Hermann (1952), Symmetry, Princeton University Press, ISBN 978-0-691-02374-8.\\nZee, A. (2010), Quantum Field Theory in a Nutshell (second ed.), Princeton, N.J.: Princeton University Press, ISBN 978-0-691-14034-6, OCLC 768477138\\n\\nHistorical references\\nBorel, Armand (2001), Essays in the History of Lie Groups and Algebraic Groups, Providence, R.I.: American Mathematical Society, ISBN 978-0-8218-0288-5\\nCayley, Arthur (1889), The Collected Mathematical Papers of Arthur Cayley, vol. II (1851–1860), Cambridge University Press.\\nO\\'Connor, John J.; Robertson, Edmund F., \"The development of group theory\", MacTutor History of Mathematics archive, University of St Andrews\\nCurtis, Charles W. (2003), Pioneers of Representation Theory: Frobenius, Burnside, Schur, and Brauer, History of Mathematics, Providence, R.I.: American Mathematical Society, ISBN 978-0-8218-2677-5.\\nvon Dyck, Walther (1882), \"Gruppentheoretische Studien (Group-theoretical studies)\", Mathematische Annalen (in German), 20 (1): 1–44, doi:10.1007/BF01443322, S2CID 179178038, archived from the original on 2014-02-22.\\nGalois, Évariste (1908),  Tannery, Jules (ed.), Manuscrits de Évariste Galois [Évariste Galois\\' Manuscripts] (in French), Paris: Gauthier-Villars (Galois work was first published by Joseph Liouville in 1843).\\nJordan, Camille (1870), Traité des substitutions et des équations algébriques [Study of Substitutions and Algebraic Equations] (in French), Paris: Gauthier-Villars.\\nKleiner, Israel (1986), \"The evolution of group theory: A brief survey\", Mathematics Magazine, 59 (4): 195–215, doi:10.2307/2690312, JSTOR 2690312, MR 0863090.\\nLie, Sophus (1973), Gesammelte Abhandlungen. Band 1 [Collected papers. Volume 1] (in German), New York: Johnson Reprint Corp., MR 0392459.\\nMackey, George Whitelaw (1976), The Theory of Unitary Group Representations, University of Chicago Press, MR 0396826\\nSmith, David Eugene (1906), History of Modern Mathematics, Mathematical Monographs, No. 1.\\nWeyl, Hermann (1950) [1931], The Theory of Groups and Quantum Mechanics, translated by Robertson, H. P., Dover, ISBN 978-0-486-60269-1.\\nWussing, Hans (2007), The Genesis of the Abstract Group Concept: A Contribution to the History of the Origin of Abstract Group Theory, New York: Dover Publications, ISBN 978-0-486-45868-7.\\n\\nExternal links\\nWeisstein, Eric W., \"Group\", MathWorld'"
      ]
     },
     "execution_count": 24,
     "metadata": {},
     "output_type": "execute_result"
    }
   ],
   "source": [
    "fdata.loc[5,'Page Text']"
   ]
  },
  {
   "cell_type": "code",
   "execution_count": 25,
   "id": "845e5194",
   "metadata": {},
   "outputs": [],
   "source": [
    "import pandas as pd\n",
    "df = pd.read_csv('wikidata.csv')"
   ]
  },
  {
   "cell_type": "code",
   "execution_count": 26,
   "id": "7849d3db",
   "metadata": {},
   "outputs": [
    {
     "name": "stdout",
     "output_type": "stream",
     "text": [
      "<class 'pandas.core.frame.DataFrame'>\n",
      "RangeIndex: 4000 entries, 0 to 3999\n",
      "Data columns (total 3 columns):\n",
      " #   Column      Non-Null Count  Dtype \n",
      "---  ------      --------------  ----- \n",
      " 0   Unnamed: 0  4000 non-null   int64 \n",
      " 1   Category    4000 non-null   object\n",
      " 2   Page Text   4000 non-null   object\n",
      "dtypes: int64(1), object(2)\n",
      "memory usage: 93.9+ KB\n"
     ]
    }
   ],
   "source": [
    "df.info()"
   ]
  },
  {
   "cell_type": "code",
   "execution_count": 27,
   "id": "72da93c0",
   "metadata": {},
   "outputs": [
    {
     "data": {
      "text/plain": [
       "<AxesSubplot:ylabel='Category'>"
      ]
     },
     "execution_count": 27,
     "metadata": {},
     "output_type": "execute_result"
    },
    {
     "data": {
      "image/png": "[encoded data removed]",
      "text/plain": [
       "<Figure size 576x288 with 1 Axes>"
      ]
     },
     "metadata": {
      "needs_background": "light"
     },
     "output_type": "display_data"
    }
   ],
   "source": [
    "import matplotlib.pyplot as plt\n",
    "import seaborn as sns\n",
    "\n",
    "plt.figure(figsize=(8,4))\n",
    "sns.barplot(df['Category'].value_counts().index, df['Category'].value_counts())"
   ]
  },
  {
   "cell_type": "code",
   "execution_count": 28,
   "id": "e747bbdd",
   "metadata": {},
   "outputs": [
    {
     "data": {
      "text/html": [
       "<div>\n",
       "<style scoped>\n",
       "    .dataframe tbody tr th:only-of-type {\n",
       "        vertical-align: middle;\n",
       "    }\n",
       "\n",
       "    .dataframe tbody tr th {\n",
       "        vertical-align: top;\n",
       "    }\n",
       "\n",
       "    .dataframe thead th {\n",
       "        text-align: right;\n",
       "    }\n",
       "</style>\n",
       "<table border=\"1\" class=\"dataframe\">\n",
       "  <thead>\n",
       "    <tr style=\"text-align: right;\">\n",
       "      <th></th>\n",
       "      <th>Unnamed: 0</th>\n",
       "      <th>Category</th>\n",
       "      <th>Page Text</th>\n",
       "    </tr>\n",
       "  </thead>\n",
       "  <tbody>\n",
       "    <tr>\n",
       "      <th>0</th>\n",
       "      <td>0</td>\n",
       "      <td>4</td>\n",
       "      <td>Mathematics (from Ancient Greek  μάθημα; máthē...</td>\n",
       "    </tr>\n",
       "    <tr>\n",
       "      <th>1</th>\n",
       "      <td>1</td>\n",
       "      <td>4</td>\n",
       "      <td>Discrete mathematics is the study of mathemati...</td>\n",
       "    </tr>\n",
       "    <tr>\n",
       "      <th>2</th>\n",
       "      <td>2</td>\n",
       "      <td>4</td>\n",
       "      <td>In mathematics, a function from a set X to a s...</td>\n",
       "    </tr>\n",
       "    <tr>\n",
       "      <th>3</th>\n",
       "      <td>3</td>\n",
       "      <td>4</td>\n",
       "      <td>Pure mathematics is the study of mathematical ...</td>\n",
       "    </tr>\n",
       "    <tr>\n",
       "      <th>4</th>\n",
       "      <td>4</td>\n",
       "      <td>4</td>\n",
       "      <td>In mathematics, a matrix (plural matrices) is ...</td>\n",
       "    </tr>\n",
       "  </tbody>\n",
       "</table>\n",
       "</div>"
      ],
      "text/plain": [
       "   Unnamed: 0  Category                                          Page Text\n",
       "0           0         4  Mathematics (from Ancient Greek  μάθημα; máthē...\n",
       "1           1         4  Discrete mathematics is the study of mathemati...\n",
       "2           2         4  In mathematics, a function from a set X to a s...\n",
       "3           3         4  Pure mathematics is the study of mathematical ...\n",
       "4           4         4  In mathematics, a matrix (plural matrices) is ..."
      ]
     },
     "execution_count": 28,
     "metadata": {},
     "output_type": "execute_result"
    }
   ],
   "source": [
    "from sklearn.preprocessing import LabelEncoder\n",
    "le=LabelEncoder()\n",
    "df['Category']=le.fit_transform(df['Category'])\n",
    "df.head()"
   ]
  },
  {
   "cell_type": "code",
   "execution_count": 29,
   "id": "73f3011d",
   "metadata": {},
   "outputs": [],
   "source": [
    "df = df.iloc[: , 1:]"
   ]
  },
  {
   "cell_type": "code",
   "execution_count": 30,
   "id": "76d36d71",
   "metadata": {},
   "outputs": [
    {
     "name": "stdout",
     "output_type": "stream",
     "text": [
      "X -- (4000, 1) \n",
      "y -- (4000,)\n"
     ]
    }
   ],
   "source": [
    "X = df.drop(['Category'], axis=1)\n",
    "y = df['Category']\n",
    "print(\"X --\", X.shape, \"\\ny --\", y.shape)"
   ]
  },
  {
   "cell_type": "code",
   "execution_count": 31,
   "id": "5c49e4c2",
   "metadata": {},
   "outputs": [
    {
     "name": "stdout",
     "output_type": "stream",
     "text": [
      "train_X shape:  (2720, 1)\n",
      "train_y shape:  (2720,)\n",
      "val_X shape:  (480, 1)\n",
      "val_y shape:  (480,)\n",
      "test_X shape:  (800, 1)\n",
      "test_y shape:  (800,)\n"
     ]
    }
   ],
   "source": [
    "from sklearn.model_selection import train_test_split\n",
    "X_train, test_X, y_train, test_y = train_test_split(X,y,test_size=0.2,random_state=42, stratify=y)\n",
    "\n",
    "train_X, val_X, train_y, val_y = train_test_split(X_train,y_train,test_size=0.15,random_state=0, stratify=y_train)\n",
    "\n",
    "print(\"train_X shape: \", train_X.shape)\n",
    "print(\"train_y shape: \", train_y.shape)\n",
    "print(\"val_X shape: \", val_X.shape)\n",
    "print(\"val_y shape: \", val_y.shape)\n",
    "print(\"test_X shape: \", test_X.shape)\n",
    "print(\"test_y shape: \", test_y.shape)"
   ]
  },
  {
   "cell_type": "code",
   "execution_count": 32,
   "id": "bf6cbbb1",
   "metadata": {},
   "outputs": [
    {
     "data": {
      "text/html": [
       "<div>\n",
       "<style scoped>\n",
       "    .dataframe tbody tr th:only-of-type {\n",
       "        vertical-align: middle;\n",
       "    }\n",
       "\n",
       "    .dataframe tbody tr th {\n",
       "        vertical-align: top;\n",
       "    }\n",
       "\n",
       "    .dataframe thead th {\n",
       "        text-align: right;\n",
       "    }\n",
       "</style>\n",
       "<table border=\"1\" class=\"dataframe\">\n",
       "  <thead>\n",
       "    <tr style=\"text-align: right;\">\n",
       "      <th></th>\n",
       "      <th>Page Text</th>\n",
       "      <th>text</th>\n",
       "    </tr>\n",
       "  </thead>\n",
       "  <tbody>\n",
       "    <tr>\n",
       "      <th>2866</th>\n",
       "      <td>This is a list of films produced and released ...</td>\n",
       "      <td>this is a list of films produced and released ...</td>\n",
       "    </tr>\n",
       "    <tr>\n",
       "      <th>1290</th>\n",
       "      <td>In most English-speaking countries, varsity is...</td>\n",
       "      <td>in most english-speaking countries, varsity is...</td>\n",
       "    </tr>\n",
       "    <tr>\n",
       "      <th>2668</th>\n",
       "      <td>Odisha (formerly known as Orissa)  is one of t...</td>\n",
       "      <td>odisha (formerly known as orissa)  is one of t...</td>\n",
       "    </tr>\n",
       "    <tr>\n",
       "      <th>2656</th>\n",
       "      <td>London is the largest urban area and capital c...</td>\n",
       "      <td>london is the largest urban area and capital c...</td>\n",
       "    </tr>\n",
       "    <tr>\n",
       "      <th>2262</th>\n",
       "      <td>The history of West Africa has been divided in...</td>\n",
       "      <td>the history of west africa has been divided in...</td>\n",
       "    </tr>\n",
       "  </tbody>\n",
       "</table>\n",
       "</div>"
      ],
      "text/plain": [
       "                                              Page Text  \\\n",
       "2866  This is a list of films produced and released ...   \n",
       "1290  In most English-speaking countries, varsity is...   \n",
       "2668  Odisha (formerly known as Orissa)  is one of t...   \n",
       "2656  London is the largest urban area and capital c...   \n",
       "2262  The history of West Africa has been divided in...   \n",
       "\n",
       "                                                   text  \n",
       "2866  this is a list of films produced and released ...  \n",
       "1290  in most english-speaking countries, varsity is...  \n",
       "2668  odisha (formerly known as orissa)  is one of t...  \n",
       "2656  london is the largest urban area and capital c...  \n",
       "2262  the history of west africa has been divided in...  "
      ]
     },
     "execution_count": 32,
     "metadata": {},
     "output_type": "execute_result"
    }
   ],
   "source": [
    "train_X['text'] = train_X['Page Text'].str.lower()\n",
    "train_X.head()"
   ]
  },
  {
   "cell_type": "code",
   "execution_count": 33,
   "id": "eb7e3792",
   "metadata": {},
   "outputs": [
    {
     "name": "stdout",
     "output_type": "stream",
     "text": [
      "i; me; my; myself; we; our; ours; ourselves; you; you're; you've; you'll; you'd; your; yours; yourself; yourselves; he; him; his; himself; she; she's; her; hers; herself; it; it's; its; itself; they; them; their; theirs; themselves; what; which; who; whom; this; that; that'll; these; those; am; is; are; was; were; be; been; being; have; has; had; having; do; does; did; doing; a; an; the; and; but; if; or; because; as; until; while; of; at; by; for; with; about; against; between; into; through; during; before; after; above; below; to; from; up; down; in; out; on; off; over; under; again; further; then; once; here; there; when; where; why; how; all; any; both; each; few; more; most; other; some; such; no; nor; not; only; own; same; so; than; too; very; s; t; can; will; just; don; don't; should; should've; now; d; ll; m; o; re; ve; y; ain; aren; aren't; couldn; couldn't; didn; didn't; doesn; doesn't; hadn; hadn't; hasn; hasn't; haven; haven't; isn; isn't; ma; mightn; mightn't; mustn; mustn't; needn; needn't; shan; shan't; shouldn; shouldn't; wasn; wasn't; weren; weren't; won; won't; wouldn; wouldn't\n"
     ]
    }
   ],
   "source": [
    "from nltk.corpus import stopwords\n",
    "stopword = set(stopwords.words('english'))\n",
    "print(\"; \".join(stopwords.words('english')))"
   ]
  },
  {
   "cell_type": "code",
   "execution_count": 34,
   "id": "e22024a5",
   "metadata": {},
   "outputs": [
    {
     "data": {
      "text/html": [
       "<div>\n",
       "<style scoped>\n",
       "    .dataframe tbody tr th:only-of-type {\n",
       "        vertical-align: middle;\n",
       "    }\n",
       "\n",
       "    .dataframe tbody tr th {\n",
       "        vertical-align: top;\n",
       "    }\n",
       "\n",
       "    .dataframe thead th {\n",
       "        text-align: right;\n",
       "    }\n",
       "</style>\n",
       "<table border=\"1\" class=\"dataframe\">\n",
       "  <thead>\n",
       "    <tr style=\"text-align: right;\">\n",
       "      <th></th>\n",
       "      <th>Page Text</th>\n",
       "      <th>text</th>\n",
       "      <th>text11</th>\n",
       "    </tr>\n",
       "  </thead>\n",
       "  <tbody>\n",
       "    <tr>\n",
       "      <th>2866</th>\n",
       "      <td>This is a list of films produced and released ...</td>\n",
       "      <td>this is a list of films produced and released ...</td>\n",
       "      <td>list films produced released national geograph...</td>\n",
       "    </tr>\n",
       "    <tr>\n",
       "      <th>1290</th>\n",
       "      <td>In most English-speaking countries, varsity is...</td>\n",
       "      <td>in most english-speaking countries, varsity is...</td>\n",
       "      <td>english-speaking countries, varsity abbreviati...</td>\n",
       "    </tr>\n",
       "    <tr>\n",
       "      <th>2668</th>\n",
       "      <td>Odisha (formerly known as Orissa)  is one of t...</td>\n",
       "      <td>odisha (formerly known as orissa)  is one of t...</td>\n",
       "      <td>odisha (formerly known orissa) one 28 states r...</td>\n",
       "    </tr>\n",
       "    <tr>\n",
       "      <th>2656</th>\n",
       "      <td>London is the largest urban area and capital c...</td>\n",
       "      <td>london is the largest urban area and capital c...</td>\n",
       "      <td>london largest urban area capital city united ...</td>\n",
       "    </tr>\n",
       "    <tr>\n",
       "      <th>2262</th>\n",
       "      <td>The history of West Africa has been divided in...</td>\n",
       "      <td>the history of west africa has been divided in...</td>\n",
       "      <td>history west africa divided prehistory, iron a...</td>\n",
       "    </tr>\n",
       "  </tbody>\n",
       "</table>\n",
       "</div>"
      ],
      "text/plain": [
       "                                              Page Text  \\\n",
       "2866  This is a list of films produced and released ...   \n",
       "1290  In most English-speaking countries, varsity is...   \n",
       "2668  Odisha (formerly known as Orissa)  is one of t...   \n",
       "2656  London is the largest urban area and capital c...   \n",
       "2262  The history of West Africa has been divided in...   \n",
       "\n",
       "                                                   text  \\\n",
       "2866  this is a list of films produced and released ...   \n",
       "1290  in most english-speaking countries, varsity is...   \n",
       "2668  odisha (formerly known as orissa)  is one of t...   \n",
       "2656  london is the largest urban area and capital c...   \n",
       "2262  the history of west africa has been divided in...   \n",
       "\n",
       "                                                 text11  \n",
       "2866  list films produced released national geograph...  \n",
       "1290  english-speaking countries, varsity abbreviati...  \n",
       "2668  odisha (formerly known orissa) one 28 states r...  \n",
       "2656  london largest urban area capital city united ...  \n",
       "2262  history west africa divided prehistory, iron a...  "
      ]
     },
     "execution_count": 34,
     "metadata": {},
     "output_type": "execute_result"
    }
   ],
   "source": [
    "def remove_stopwords(text):\n",
    "    return \" \".join([word for word in str(text).split() if word not in stopword])\n",
    "\n",
    "train_X['text11'] = train_X['text'].apply(lambda text :remove_stopwords(text))\n",
    "train_X.head()"
   ]
  },
  {
   "cell_type": "code",
   "execution_count": 35,
   "id": "1f199353",
   "metadata": {},
   "outputs": [
    {
     "name": "stdout",
     "output_type": "stream",
     "text": [
      "!\"#$%&'()*+,-./:;<=>?@[\\]^_`{|}~\n"
     ]
    }
   ],
   "source": [
    "import numpy as np \n",
    "import pandas as pd \n",
    "import re\n",
    "import nltk\n",
    "import string\n",
    "punc_to_remove = string.punctuation\n",
    "print(punc_to_remove)"
   ]
  },
  {
   "cell_type": "code",
   "execution_count": 36,
   "id": "77ee6ecc",
   "metadata": {},
   "outputs": [
    {
     "data": {
      "text/html": [
       "<div>\n",
       "<style scoped>\n",
       "    .dataframe tbody tr th:only-of-type {\n",
       "        vertical-align: middle;\n",
       "    }\n",
       "\n",
       "    .dataframe tbody tr th {\n",
       "        vertical-align: top;\n",
       "    }\n",
       "\n",
       "    .dataframe thead th {\n",
       "        text-align: right;\n",
       "    }\n",
       "</style>\n",
       "<table border=\"1\" class=\"dataframe\">\n",
       "  <thead>\n",
       "    <tr style=\"text-align: right;\">\n",
       "      <th></th>\n",
       "      <th>Page Text</th>\n",
       "      <th>text</th>\n",
       "      <th>text11</th>\n",
       "      <th>text12</th>\n",
       "    </tr>\n",
       "  </thead>\n",
       "  <tbody>\n",
       "    <tr>\n",
       "      <th>2866</th>\n",
       "      <td>This is a list of films produced and released ...</td>\n",
       "      <td>this is a list of films produced and released ...</td>\n",
       "      <td>list films produced released national geograph...</td>\n",
       "      <td>list films produced released national geograph...</td>\n",
       "    </tr>\n",
       "    <tr>\n",
       "      <th>1290</th>\n",
       "      <td>In most English-speaking countries, varsity is...</td>\n",
       "      <td>in most english-speaking countries, varsity is...</td>\n",
       "      <td>english-speaking countries, varsity abbreviati...</td>\n",
       "      <td>english-speaking countries, varsity abbreviati...</td>\n",
       "    </tr>\n",
       "    <tr>\n",
       "      <th>2668</th>\n",
       "      <td>Odisha (formerly known as Orissa)  is one of t...</td>\n",
       "      <td>odisha (formerly known as orissa)  is one of t...</td>\n",
       "      <td>odisha (formerly known orissa) one 28 states r...</td>\n",
       "      <td>odisha (formerly known orissa) one 28 states r...</td>\n",
       "    </tr>\n",
       "    <tr>\n",
       "      <th>2656</th>\n",
       "      <td>London is the largest urban area and capital c...</td>\n",
       "      <td>london is the largest urban area and capital c...</td>\n",
       "      <td>london largest urban area capital city united ...</td>\n",
       "      <td>london largest urban area capital city united ...</td>\n",
       "    </tr>\n",
       "    <tr>\n",
       "      <th>2262</th>\n",
       "      <td>The history of West Africa has been divided in...</td>\n",
       "      <td>the history of west africa has been divided in...</td>\n",
       "      <td>history west africa divided prehistory, iron a...</td>\n",
       "      <td>history west africa divided prehistory, iron a...</td>\n",
       "    </tr>\n",
       "  </tbody>\n",
       "</table>\n",
       "</div>"
      ],
      "text/plain": [
       "                                              Page Text  \\\n",
       "2866  This is a list of films produced and released ...   \n",
       "1290  In most English-speaking countries, varsity is...   \n",
       "2668  Odisha (formerly known as Orissa)  is one of t...   \n",
       "2656  London is the largest urban area and capital c...   \n",
       "2262  The history of West Africa has been divided in...   \n",
       "\n",
       "                                                   text  \\\n",
       "2866  this is a list of films produced and released ...   \n",
       "1290  in most english-speaking countries, varsity is...   \n",
       "2668  odisha (formerly known as orissa)  is one of t...   \n",
       "2656  london is the largest urban area and capital c...   \n",
       "2262  the history of west africa has been divided in...   \n",
       "\n",
       "                                                 text11  \\\n",
       "2866  list films produced released national geograph...   \n",
       "1290  english-speaking countries, varsity abbreviati...   \n",
       "2668  odisha (formerly known orissa) one 28 states r...   \n",
       "2656  london largest urban area capital city united ...   \n",
       "2262  history west africa divided prehistory, iron a...   \n",
       "\n",
       "                                                 text12  \n",
       "2866  list films produced released national geograph...  \n",
       "1290  english-speaking countries, varsity abbreviati...  \n",
       "2668  odisha (formerly known orissa) one 28 states r...  \n",
       "2656  london largest urban area capital city united ...  \n",
       "2262  history west africa divided prehistory, iron a...  "
      ]
     },
     "execution_count": 36,
     "metadata": {},
     "output_type": "execute_result"
    }
   ],
   "source": [
    "def remove_urls(text):\n",
    "    url_pattern = re.compile(r'https?://\\S+|www\\.\\S+')\n",
    "    return url_pattern.sub(r'', text)\n",
    "\n",
    "train_X[\"text12\"] = train_X[\"text11\"].apply(lambda text: remove_urls(text))\n",
    "train_X.head()"
   ]
  },
  {
   "cell_type": "code",
   "execution_count": 37,
   "id": "e5d927db",
   "metadata": {},
   "outputs": [
    {
     "data": {
      "text/html": [
       "<div>\n",
       "<style scoped>\n",
       "    .dataframe tbody tr th:only-of-type {\n",
       "        vertical-align: middle;\n",
       "    }\n",
       "\n",
       "    .dataframe tbody tr th {\n",
       "        vertical-align: top;\n",
       "    }\n",
       "\n",
       "    .dataframe thead th {\n",
       "        text-align: right;\n",
       "    }\n",
       "</style>\n",
       "<table border=\"1\" class=\"dataframe\">\n",
       "  <thead>\n",
       "    <tr style=\"text-align: right;\">\n",
       "      <th></th>\n",
       "      <th>Page Text</th>\n",
       "      <th>text</th>\n",
       "      <th>text11</th>\n",
       "      <th>text12</th>\n",
       "      <th>text13</th>\n",
       "    </tr>\n",
       "  </thead>\n",
       "  <tbody>\n",
       "    <tr>\n",
       "      <th>2866</th>\n",
       "      <td>This is a list of films produced and released ...</td>\n",
       "      <td>this is a list of films produced and released ...</td>\n",
       "      <td>list films produced released national geograph...</td>\n",
       "      <td>list films produced released national geograph...</td>\n",
       "      <td>list films produced released national geograph...</td>\n",
       "    </tr>\n",
       "    <tr>\n",
       "      <th>1290</th>\n",
       "      <td>In most English-speaking countries, varsity is...</td>\n",
       "      <td>in most english-speaking countries, varsity is...</td>\n",
       "      <td>english-speaking countries, varsity abbreviati...</td>\n",
       "      <td>english-speaking countries, varsity abbreviati...</td>\n",
       "      <td>englishspeaking countries varsity abbreviation...</td>\n",
       "    </tr>\n",
       "    <tr>\n",
       "      <th>2668</th>\n",
       "      <td>Odisha (formerly known as Orissa)  is one of t...</td>\n",
       "      <td>odisha (formerly known as orissa)  is one of t...</td>\n",
       "      <td>odisha (formerly known orissa) one 28 states r...</td>\n",
       "      <td>odisha (formerly known orissa) one 28 states r...</td>\n",
       "      <td>odisha formerly known orissa one 28 states rep...</td>\n",
       "    </tr>\n",
       "    <tr>\n",
       "      <th>2656</th>\n",
       "      <td>London is the largest urban area and capital c...</td>\n",
       "      <td>london is the largest urban area and capital c...</td>\n",
       "      <td>london largest urban area capital city united ...</td>\n",
       "      <td>london largest urban area capital city united ...</td>\n",
       "      <td>london largest urban area capital city united ...</td>\n",
       "    </tr>\n",
       "    <tr>\n",
       "      <th>2262</th>\n",
       "      <td>The history of West Africa has been divided in...</td>\n",
       "      <td>the history of west africa has been divided in...</td>\n",
       "      <td>history west africa divided prehistory, iron a...</td>\n",
       "      <td>history west africa divided prehistory, iron a...</td>\n",
       "      <td>history west africa divided prehistory iron ag...</td>\n",
       "    </tr>\n",
       "  </tbody>\n",
       "</table>\n",
       "</div>"
      ],
      "text/plain": [
       "                                              Page Text  \\\n",
       "2866  This is a list of films produced and released ...   \n",
       "1290  In most English-speaking countries, varsity is...   \n",
       "2668  Odisha (formerly known as Orissa)  is one of t...   \n",
       "2656  London is the largest urban area and capital c...   \n",
       "2262  The history of West Africa has been divided in...   \n",
       "\n",
       "                                                   text  \\\n",
       "2866  this is a list of films produced and released ...   \n",
       "1290  in most english-speaking countries, varsity is...   \n",
       "2668  odisha (formerly known as orissa)  is one of t...   \n",
       "2656  london is the largest urban area and capital c...   \n",
       "2262  the history of west africa has been divided in...   \n",
       "\n",
       "                                                 text11  \\\n",
       "2866  list films produced released national geograph...   \n",
       "1290  english-speaking countries, varsity abbreviati...   \n",
       "2668  odisha (formerly known orissa) one 28 states r...   \n",
       "2656  london largest urban area capital city united ...   \n",
       "2262  history west africa divided prehistory, iron a...   \n",
       "\n",
       "                                                 text12  \\\n",
       "2866  list films produced released national geograph...   \n",
       "1290  english-speaking countries, varsity abbreviati...   \n",
       "2668  odisha (formerly known orissa) one 28 states r...   \n",
       "2656  london largest urban area capital city united ...   \n",
       "2262  history west africa divided prehistory, iron a...   \n",
       "\n",
       "                                                 text13  \n",
       "2866  list films produced released national geograph...  \n",
       "1290  englishspeaking countries varsity abbreviation...  \n",
       "2668  odisha formerly known orissa one 28 states rep...  \n",
       "2656  london largest urban area capital city united ...  \n",
       "2262  history west africa divided prehistory iron ag...  "
      ]
     },
     "execution_count": 37,
     "metadata": {},
     "output_type": "execute_result"
    }
   ],
   "source": [
    "def remove_punctuation(text):\n",
    "    \"\"\"custom function to remove the punctuation\"\"\"\n",
    "    return text.translate(str.maketrans('', '', punc_to_remove))\n",
    "\n",
    "train_X['text13'] = train_X['text12'].apply(lambda text: remove_punctuation(text))\n",
    "train_X.head()"
   ]
  },
  {
   "cell_type": "code",
   "execution_count": 38,
   "id": "cdefb107",
   "metadata": {},
   "outputs": [
    {
     "data": {
      "text/html": [
       "<div>\n",
       "<style scoped>\n",
       "    .dataframe tbody tr th:only-of-type {\n",
       "        vertical-align: middle;\n",
       "    }\n",
       "\n",
       "    .dataframe tbody tr th {\n",
       "        vertical-align: top;\n",
       "    }\n",
       "\n",
       "    .dataframe thead th {\n",
       "        text-align: right;\n",
       "    }\n",
       "</style>\n",
       "<table border=\"1\" class=\"dataframe\">\n",
       "  <thead>\n",
       "    <tr style=\"text-align: right;\">\n",
       "      <th></th>\n",
       "      <th>Page Text</th>\n",
       "      <th>text</th>\n",
       "      <th>text11</th>\n",
       "      <th>text12</th>\n",
       "      <th>text13</th>\n",
       "      <th>textstemmed</th>\n",
       "    </tr>\n",
       "  </thead>\n",
       "  <tbody>\n",
       "    <tr>\n",
       "      <th>2866</th>\n",
       "      <td>This is a list of films produced and released ...</td>\n",
       "      <td>this is a list of films produced and released ...</td>\n",
       "      <td>list films produced released national geograph...</td>\n",
       "      <td>list films produced released national geograph...</td>\n",
       "      <td>list films produced released national geograph...</td>\n",
       "      <td>list film produc releas nation geograph featur...</td>\n",
       "    </tr>\n",
       "    <tr>\n",
       "      <th>1290</th>\n",
       "      <td>In most English-speaking countries, varsity is...</td>\n",
       "      <td>in most english-speaking countries, varsity is...</td>\n",
       "      <td>english-speaking countries, varsity abbreviati...</td>\n",
       "      <td>english-speaking countries, varsity abbreviati...</td>\n",
       "      <td>englishspeaking countries varsity abbreviation...</td>\n",
       "      <td>englishspeak countri varsiti abbrevi word univ...</td>\n",
       "    </tr>\n",
       "    <tr>\n",
       "      <th>2668</th>\n",
       "      <td>Odisha (formerly known as Orissa)  is one of t...</td>\n",
       "      <td>odisha (formerly known as orissa)  is one of t...</td>\n",
       "      <td>odisha (formerly known orissa) one 28 states r...</td>\n",
       "      <td>odisha (formerly known orissa) one 28 states r...</td>\n",
       "      <td>odisha formerly known orissa one 28 states rep...</td>\n",
       "      <td>odisha former known orissa one 28 state republ...</td>\n",
       "    </tr>\n",
       "    <tr>\n",
       "      <th>2656</th>\n",
       "      <td>London is the largest urban area and capital c...</td>\n",
       "      <td>london is the largest urban area and capital c...</td>\n",
       "      <td>london largest urban area capital city united ...</td>\n",
       "      <td>london largest urban area capital city united ...</td>\n",
       "      <td>london largest urban area capital city united ...</td>\n",
       "      <td>london largest urban area capit citi unit king...</td>\n",
       "    </tr>\n",
       "    <tr>\n",
       "      <th>2262</th>\n",
       "      <td>The history of West Africa has been divided in...</td>\n",
       "      <td>the history of west africa has been divided in...</td>\n",
       "      <td>history west africa divided prehistory, iron a...</td>\n",
       "      <td>history west africa divided prehistory, iron a...</td>\n",
       "      <td>history west africa divided prehistory iron ag...</td>\n",
       "      <td>histori west africa divid prehistori iron age ...</td>\n",
       "    </tr>\n",
       "  </tbody>\n",
       "</table>\n",
       "</div>"
      ],
      "text/plain": [
       "                                              Page Text  \\\n",
       "2866  This is a list of films produced and released ...   \n",
       "1290  In most English-speaking countries, varsity is...   \n",
       "2668  Odisha (formerly known as Orissa)  is one of t...   \n",
       "2656  London is the largest urban area and capital c...   \n",
       "2262  The history of West Africa has been divided in...   \n",
       "\n",
       "                                                   text  \\\n",
       "2866  this is a list of films produced and released ...   \n",
       "1290  in most english-speaking countries, varsity is...   \n",
       "2668  odisha (formerly known as orissa)  is one of t...   \n",
       "2656  london is the largest urban area and capital c...   \n",
       "2262  the history of west africa has been divided in...   \n",
       "\n",
       "                                                 text11  \\\n",
       "2866  list films produced released national geograph...   \n",
       "1290  english-speaking countries, varsity abbreviati...   \n",
       "2668  odisha (formerly known orissa) one 28 states r...   \n",
       "2656  london largest urban area capital city united ...   \n",
       "2262  history west africa divided prehistory, iron a...   \n",
       "\n",
       "                                                 text12  \\\n",
       "2866  list films produced released national geograph...   \n",
       "1290  english-speaking countries, varsity abbreviati...   \n",
       "2668  odisha (formerly known orissa) one 28 states r...   \n",
       "2656  london largest urban area capital city united ...   \n",
       "2262  history west africa divided prehistory, iron a...   \n",
       "\n",
       "                                                 text13  \\\n",
       "2866  list films produced released national geograph...   \n",
       "1290  englishspeaking countries varsity abbreviation...   \n",
       "2668  odisha formerly known orissa one 28 states rep...   \n",
       "2656  london largest urban area capital city united ...   \n",
       "2262  history west africa divided prehistory iron ag...   \n",
       "\n",
       "                                            textstemmed  \n",
       "2866  list film produc releas nation geograph featur...  \n",
       "1290  englishspeak countri varsiti abbrevi word univ...  \n",
       "2668  odisha former known orissa one 28 state republ...  \n",
       "2656  london largest urban area capit citi unit king...  \n",
       "2262  histori west africa divid prehistori iron age ...  "
      ]
     },
     "execution_count": 38,
     "metadata": {},
     "output_type": "execute_result"
    }
   ],
   "source": [
    "from nltk.stem.snowball import SnowballStemmer\n",
    "stemmer = SnowballStemmer('english')\n",
    "\n",
    "def stem_words(text):\n",
    "    return \" \".join([stemmer.stem(word) for word in text.split()])\n",
    "\n",
    "train_X[\"textstemmed\"] = train_X[\"text13\"].apply(lambda text: stem_words(text))\n",
    "train_X.head()"
   ]
  },
  {
   "cell_type": "code",
   "execution_count": 39,
   "id": "746eaea5",
   "metadata": {},
   "outputs": [
    {
     "name": "stderr",
     "output_type": "stream",
     "text": [
      "[nltk_data] Downloading package wordnet to\n",
      "[nltk_data]     C:\\Users\\vedan\\AppData\\Roaming\\nltk_data...\n",
      "[nltk_data]   Package wordnet is already up-to-date!\n"
     ]
    },
    {
     "data": {
      "text/html": [
       "<div>\n",
       "<style scoped>\n",
       "    .dataframe tbody tr th:only-of-type {\n",
       "        vertical-align: middle;\n",
       "    }\n",
       "\n",
       "    .dataframe tbody tr th {\n",
       "        vertical-align: top;\n",
       "    }\n",
       "\n",
       "    .dataframe thead th {\n",
       "        text-align: right;\n",
       "    }\n",
       "</style>\n",
       "<table border=\"1\" class=\"dataframe\">\n",
       "  <thead>\n",
       "    <tr style=\"text-align: right;\">\n",
       "      <th></th>\n",
       "      <th>Page Text</th>\n",
       "      <th>text</th>\n",
       "      <th>text11</th>\n",
       "      <th>text12</th>\n",
       "      <th>text13</th>\n",
       "      <th>textstemmed</th>\n",
       "      <th>text_lemmatized</th>\n",
       "    </tr>\n",
       "  </thead>\n",
       "  <tbody>\n",
       "    <tr>\n",
       "      <th>2866</th>\n",
       "      <td>This is a list of films produced and released ...</td>\n",
       "      <td>this is a list of films produced and released ...</td>\n",
       "      <td>list films produced released national geograph...</td>\n",
       "      <td>list films produced released national geograph...</td>\n",
       "      <td>list films produced released national geograph...</td>\n",
       "      <td>list film produc releas nation geograph featur...</td>\n",
       "      <td>list film produc releas nation geograph featur...</td>\n",
       "    </tr>\n",
       "    <tr>\n",
       "      <th>1290</th>\n",
       "      <td>In most English-speaking countries, varsity is...</td>\n",
       "      <td>in most english-speaking countries, varsity is...</td>\n",
       "      <td>english-speaking countries, varsity abbreviati...</td>\n",
       "      <td>english-speaking countries, varsity abbreviati...</td>\n",
       "      <td>englishspeaking countries varsity abbreviation...</td>\n",
       "      <td>englishspeak countri varsiti abbrevi word univ...</td>\n",
       "      <td>englishspeak countri varsiti abbrevi word univ...</td>\n",
       "    </tr>\n",
       "    <tr>\n",
       "      <th>2668</th>\n",
       "      <td>Odisha (formerly known as Orissa)  is one of t...</td>\n",
       "      <td>odisha (formerly known as orissa)  is one of t...</td>\n",
       "      <td>odisha (formerly known orissa) one 28 states r...</td>\n",
       "      <td>odisha (formerly known orissa) one 28 states r...</td>\n",
       "      <td>odisha formerly known orissa one 28 states rep...</td>\n",
       "      <td>odisha former known orissa one 28 state republ...</td>\n",
       "      <td>odisha former known orissa one 28 state republ...</td>\n",
       "    </tr>\n",
       "    <tr>\n",
       "      <th>2656</th>\n",
       "      <td>London is the largest urban area and capital c...</td>\n",
       "      <td>london is the largest urban area and capital c...</td>\n",
       "      <td>london largest urban area capital city united ...</td>\n",
       "      <td>london largest urban area capital city united ...</td>\n",
       "      <td>london largest urban area capital city united ...</td>\n",
       "      <td>london largest urban area capit citi unit king...</td>\n",
       "      <td>london largest urban area capit citi unit king...</td>\n",
       "    </tr>\n",
       "    <tr>\n",
       "      <th>2262</th>\n",
       "      <td>The history of West Africa has been divided in...</td>\n",
       "      <td>the history of west africa has been divided in...</td>\n",
       "      <td>history west africa divided prehistory, iron a...</td>\n",
       "      <td>history west africa divided prehistory, iron a...</td>\n",
       "      <td>history west africa divided prehistory iron ag...</td>\n",
       "      <td>histori west africa divid prehistori iron age ...</td>\n",
       "      <td>histori west africa divid prehistori iron age ...</td>\n",
       "    </tr>\n",
       "  </tbody>\n",
       "</table>\n",
       "</div>"
      ],
      "text/plain": [
       "                                              Page Text  \\\n",
       "2866  This is a list of films produced and released ...   \n",
       "1290  In most English-speaking countries, varsity is...   \n",
       "2668  Odisha (formerly known as Orissa)  is one of t...   \n",
       "2656  London is the largest urban area and capital c...   \n",
       "2262  The history of West Africa has been divided in...   \n",
       "\n",
       "                                                   text  \\\n",
       "2866  this is a list of films produced and released ...   \n",
       "1290  in most english-speaking countries, varsity is...   \n",
       "2668  odisha (formerly known as orissa)  is one of t...   \n",
       "2656  london is the largest urban area and capital c...   \n",
       "2262  the history of west africa has been divided in...   \n",
       "\n",
       "                                                 text11  \\\n",
       "2866  list films produced released national geograph...   \n",
       "1290  english-speaking countries, varsity abbreviati...   \n",
       "2668  odisha (formerly known orissa) one 28 states r...   \n",
       "2656  london largest urban area capital city united ...   \n",
       "2262  history west africa divided prehistory, iron a...   \n",
       "\n",
       "                                                 text12  \\\n",
       "2866  list films produced released national geograph...   \n",
       "1290  english-speaking countries, varsity abbreviati...   \n",
       "2668  odisha (formerly known orissa) one 28 states r...   \n",
       "2656  london largest urban area capital city united ...   \n",
       "2262  history west africa divided prehistory, iron a...   \n",
       "\n",
       "                                                 text13  \\\n",
       "2866  list films produced released national geograph...   \n",
       "1290  englishspeaking countries varsity abbreviation...   \n",
       "2668  odisha formerly known orissa one 28 states rep...   \n",
       "2656  london largest urban area capital city united ...   \n",
       "2262  history west africa divided prehistory iron ag...   \n",
       "\n",
       "                                            textstemmed  \\\n",
       "2866  list film produc releas nation geograph featur...   \n",
       "1290  englishspeak countri varsiti abbrevi word univ...   \n",
       "2668  odisha former known orissa one 28 state republ...   \n",
       "2656  london largest urban area capit citi unit king...   \n",
       "2262  histori west africa divid prehistori iron age ...   \n",
       "\n",
       "                                        text_lemmatized  \n",
       "2866  list film produc releas nation geograph featur...  \n",
       "1290  englishspeak countri varsiti abbrevi word univ...  \n",
       "2668  odisha former known orissa one 28 state republ...  \n",
       "2656  london largest urban area capit citi unit king...  \n",
       "2262  histori west africa divid prehistori iron age ...  "
      ]
     },
     "execution_count": 39,
     "metadata": {},
     "output_type": "execute_result"
    }
   ],
   "source": [
    "from nltk.stem import WordNetLemmatizer\n",
    "nltk.download('wordnet')\n",
    "lemmatizer = WordNetLemmatizer()\n",
    "def lemmatize_words(text):\n",
    "    return \" \".join([lemmatizer.lemmatize(word) for word in text.split()])\n",
    "\n",
    "train_X[\"text_lemmatized\"] = train_X[\"textstemmed\"].apply(lambda text: lemmatize_words(text))\n",
    "train_X.head()"
   ]
  },
  {
   "cell_type": "code",
   "execution_count": 40,
   "id": "04cca7a3",
   "metadata": {},
   "outputs": [],
   "source": [
    "train_X.drop(['Page Text', 'text', 'text11', 'text12', 'text13','textstemmed'], axis=1, inplace=True)"
   ]
  },
  {
   "cell_type": "code",
   "execution_count": 41,
   "id": "cfc818c4",
   "metadata": {},
   "outputs": [
    {
     "data": {
      "text/html": [
       "<div>\n",
       "<style scoped>\n",
       "    .dataframe tbody tr th:only-of-type {\n",
       "        vertical-align: middle;\n",
       "    }\n",
       "\n",
       "    .dataframe tbody tr th {\n",
       "        vertical-align: top;\n",
       "    }\n",
       "\n",
       "    .dataframe thead th {\n",
       "        text-align: right;\n",
       "    }\n",
       "</style>\n",
       "<table border=\"1\" class=\"dataframe\">\n",
       "  <thead>\n",
       "    <tr style=\"text-align: right;\">\n",
       "      <th></th>\n",
       "      <th>text_lemmatized</th>\n",
       "      <th>Category</th>\n",
       "    </tr>\n",
       "  </thead>\n",
       "  <tbody>\n",
       "    <tr>\n",
       "      <th>2866</th>\n",
       "      <td>list film produc releas nation geograph featur...</td>\n",
       "      <td>1</td>\n",
       "    </tr>\n",
       "    <tr>\n",
       "      <th>1290</th>\n",
       "      <td>englishspeak countri varsiti abbrevi word univ...</td>\n",
       "      <td>6</td>\n",
       "    </tr>\n",
       "    <tr>\n",
       "      <th>2668</th>\n",
       "      <td>odisha former known orissa one 28 state republ...</td>\n",
       "      <td>1</td>\n",
       "    </tr>\n",
       "    <tr>\n",
       "      <th>2656</th>\n",
       "      <td>london largest urban area capit citi unit king...</td>\n",
       "      <td>1</td>\n",
       "    </tr>\n",
       "    <tr>\n",
       "      <th>2262</th>\n",
       "      <td>histori west africa divid prehistori iron age ...</td>\n",
       "      <td>3</td>\n",
       "    </tr>\n",
       "  </tbody>\n",
       "</table>\n",
       "</div>"
      ],
      "text/plain": [
       "                                        text_lemmatized  Category\n",
       "2866  list film produc releas nation geograph featur...         1\n",
       "1290  englishspeak countri varsiti abbrevi word univ...         6\n",
       "2668  odisha former known orissa one 28 state republ...         1\n",
       "2656  london largest urban area capit citi unit king...         1\n",
       "2262  histori west africa divid prehistori iron age ...         3"
      ]
     },
     "execution_count": 41,
     "metadata": {},
     "output_type": "execute_result"
    }
   ],
   "source": [
    "train = train_X.join(train_y)\n",
    "train.head()"
   ]
  },
  {
   "cell_type": "code",
   "execution_count": 42,
   "id": "fd9b151b",
   "metadata": {},
   "outputs": [
    {
     "data": {
      "text/plain": [
       "<AxesSubplot:ylabel='Category'>"
      ]
     },
     "execution_count": 42,
     "metadata": {},
     "output_type": "execute_result"
    },
    {
     "data": {
      "image/png": "[encoded data removed]",
      "text/plain": [
       "<Figure size 576x288 with 1 Axes>"
      ]
     },
     "metadata": {
      "needs_background": "light"
     },
     "output_type": "display_data"
    }
   ],
   "source": [
    "plt.figure(figsize=(8,4))\n",
    "sns.barplot(train['Category'].value_counts().index, train['Category'].value_counts())"
   ]
  },
  {
   "cell_type": "code",
   "execution_count": 43,
   "id": "83bee197",
   "metadata": {},
   "outputs": [],
   "source": [
    "from sklearn.feature_extraction.text import CountVectorizer\n",
    "bow = CountVectorizer(max_features=3500)"
   ]
  },
  {
   "cell_type": "code",
   "execution_count": 44,
   "id": "a525c253",
   "metadata": {},
   "outputs": [
    {
     "data": {
      "text/plain": [
       "array([[0, 0, 0, ..., 0, 0, 0],\n",
       "       [0, 0, 0, ..., 0, 0, 0],\n",
       "       [2, 0, 0, ..., 0, 0, 0],\n",
       "       ...,\n",
       "       [4, 0, 0, ..., 0, 0, 0],\n",
       "       [0, 0, 0, ..., 0, 0, 0],\n",
       "       [0, 0, 0, ..., 0, 0, 0]], dtype=int64)"
      ]
     },
     "execution_count": 44,
     "metadata": {},
     "output_type": "execute_result"
    }
   ],
   "source": [
    "train_vector = bow.fit_transform(train_X['text_lemmatized']).toarray()\n",
    "train_vector"
   ]
  },
  {
   "cell_type": "code",
   "execution_count": 45,
   "id": "3895084e",
   "metadata": {},
   "outputs": [],
   "source": [
    "def preprocessing(df):\n",
    "    df['msg_lower'] = df['Page Text'].str.lower()\n",
    "    df[\"msg_wo_url\"] = df[\"msg_lower\"].apply(lambda text: remove_urls(text))\n",
    "    df['msg_wo_stopword'] = df['msg_wo_url'].apply(lambda text :remove_stopwords(text))\n",
    "    df['msg_wo_punc'] = df['msg_wo_stopword'].apply(lambda text: remove_punctuation(text))\n",
    "    df[\"text_lemmatized\"] = df[\"msg_wo_punc\"].apply(lambda text: lemmatize_words(text))\n",
    "    df.drop(['Page Text', 'msg_lower', 'msg_wo_url', 'msg_wo_stopword', 'msg_wo_punc'], axis=1, inplace=True)\n",
    "    return df"
   ]
  },
  {
   "cell_type": "code",
   "execution_count": 46,
   "id": "d6093a7d",
   "metadata": {
    "scrolled": true
   },
   "outputs": [
    {
     "name": "stdout",
     "output_type": "stream",
     "text": [
      "(480, 1)\n"
     ]
    },
    {
     "data": {
      "text/plain": [
       "array([[0, 0, 0, ..., 0, 0, 0],\n",
       "       [0, 0, 0, ..., 0, 0, 0],\n",
       "       [0, 0, 0, ..., 0, 0, 0],\n",
       "       ...,\n",
       "       [0, 0, 0, ..., 0, 0, 0],\n",
       "       [1, 0, 0, ..., 1, 0, 0],\n",
       "       [0, 1, 0, ..., 0, 0, 0]], dtype=int64)"
      ]
     },
     "execution_count": 46,
     "metadata": {},
     "output_type": "execute_result"
    }
   ],
   "source": [
    "val_X = preprocessing(val_X)\n",
    "print(val_X.shape)\n",
    "val_vector = bow.transform(val_X['text_lemmatized']).toarray()\n",
    "val_vector"
   ]
  },
  {
   "cell_type": "code",
   "execution_count": 47,
   "id": "d41fc05e",
   "metadata": {},
   "outputs": [
    {
     "name": "stdout",
     "output_type": "stream",
     "text": [
      "(800, 1)\n"
     ]
    },
    {
     "data": {
      "text/plain": [
       "array([[ 2,  0,  0, ...,  0,  0,  0],\n",
       "       [ 0,  0,  0, ...,  0,  0,  0],\n",
       "       [21,  1,  0, ...,  0,  0,  1],\n",
       "       ...,\n",
       "       [ 0,  0,  0, ...,  0,  0,  1],\n",
       "       [ 1,  0,  0, ...,  0,  0,  0],\n",
       "       [ 0,  0,  1, ...,  0,  0,  0]], dtype=int64)"
      ]
     },
     "execution_count": 47,
     "metadata": {},
     "output_type": "execute_result"
    }
   ],
   "source": [
    "text_X= preprocessing(test_X)\n",
    "print(test_X.shape)\n",
    "test_vector = bow.transform(test_X['text_lemmatized']).toarray()\n",
    "test_vector"
   ]
  },
  {
   "cell_type": "code",
   "execution_count": 48,
   "id": "f2188ea8",
   "metadata": {},
   "outputs": [],
   "source": [
    "from sklearn.naive_bayes import MultinomialNB\n",
    "\n",
    "nb = MultinomialNB().fit(train_vector,train_y)"
   ]
  },
  {
   "cell_type": "code",
   "execution_count": 49,
   "id": "a2ee81f5",
   "metadata": {},
   "outputs": [
    {
     "name": "stdout",
     "output_type": "stream",
     "text": [
      "accuracy is  0.8145833333333333\n"
     ]
    },
    {
     "data": {
      "text/plain": [
       "<AxesSubplot:>"
      ]
     },
     "execution_count": 49,
     "metadata": {},
     "output_type": "execute_result"
    },
    {
     "data": {
      "image/png": "[encoded data removed]",
      "text/plain": [
       "<Figure size 432x288 with 2 Axes>"
      ]
     },
     "metadata": {
      "needs_background": "light"
     },
     "output_type": "display_data"
    }
   ],
   "source": [
    "import seaborn as sns\n",
    "from sklearn.metrics import precision_score, recall_score\n",
    "from sklearn.metrics import accuracy_score\n",
    "from sklearn.metrics import f1_score\n",
    "from sklearn.metrics import confusion_matrix\n",
    "\n",
    "\n",
    "val_pred_nb = nb.predict(val_vector)\n",
    "print (\"accuracy is \"  ,accuracy_score(val_y,val_pred_nb))\n",
    "cm=confusion_matrix(val_y,val_pred_nb)\n",
    "sns.heatmap(cm,cmap='BuPu',annot=True,fmt='d')\n",
    "\n",
    "\n"
   ]
  },
  {
   "cell_type": "code",
   "execution_count": 50,
   "id": "f0e09d17",
   "metadata": {},
   "outputs": [
    {
     "name": "stdout",
     "output_type": "stream",
     "text": [
      "accuracy is  0.7875\n",
      "recall is  [0.9  0.83 0.79 0.65 0.79 0.76 0.95 0.63]\n",
      "precision is  [0.67164179 0.8556701  0.83157895 0.66326531 0.92941176 0.85393258\n",
      " 0.79831933 0.75903614]\n"
     ]
    },
    {
     "data": {
      "image/png": "[encoded data removed]",
      "text/plain": [
       "<Figure size 432x288 with 2 Axes>"
      ]
     },
     "metadata": {
      "needs_background": "light"
     },
     "output_type": "display_data"
    }
   ],
   "source": [
    "test_pred_nb = nb.predict(test_vector)\n",
    "print (\"accuracy is \" ,accuracy_score(test_y,test_pred_nb))\n",
    "\n",
    "\n",
    "cm = confusion_matrix(test_y,test_pred_nb)\n",
    "sns.heatmap(cm,cmap='BuPu',annot=True,fmt='d')\n",
    "recalls = np.diag(cm) / np.sum(cm, axis = 1)\n",
    "print (\"recall is \" ,recalls)\n",
    "precision = np.diag(cm) / np.sum(cm, axis = 0)\n",
    "print (\"precision is \" ,precision)"
   ]
  },
  {
   "cell_type": "code",
   "execution_count": 51,
   "id": "b2fdf37a",
   "metadata": {},
   "outputs": [],
   "source": [
    "from sklearn.ensemble import RandomForestClassifier\n",
    "\n",
    "rfc = RandomForestClassifier(random_state=0).fit(train_vector,train_y)"
   ]
  },
  {
   "cell_type": "code",
   "execution_count": 52,
   "id": "870b221c",
   "metadata": {},
   "outputs": [
    {
     "name": "stdout",
     "output_type": "stream",
     "text": [
      "accuracy is  0.73125\n"
     ]
    },
    {
     "data": {
      "text/plain": [
       "<AxesSubplot:>"
      ]
     },
     "execution_count": 52,
     "metadata": {},
     "output_type": "execute_result"
    },
    {
     "data": {
      "image/png": "[encoded data removed]",
      "text/plain": [
       "<Figure size 432x288 with 2 Axes>"
      ]
     },
     "metadata": {
      "needs_background": "light"
     },
     "output_type": "display_data"
    }
   ],
   "source": [
    "val_pred_rfc = rfc.predict(val_vector)\n",
    "print (\"accuracy is \" ,accuracy_score(val_y,val_pred_rfc))\n",
    "cm=confusion_matrix(val_y,val_pred_rfc)\n",
    "sns.heatmap(cm,cmap='BuPu',annot=True,fmt='d')\n",
    "\n"
   ]
  },
  {
   "cell_type": "code",
   "execution_count": 53,
   "id": "4db4ab8e",
   "metadata": {},
   "outputs": [
    {
     "name": "stdout",
     "output_type": "stream",
     "text": [
      "accuracy is  0.72125\n",
      "recall is  [0.91 0.85 0.94 0.61 0.79 0.59 0.99 0.09]\n",
      "precision is  [0.46907216 0.78703704 0.74603175 0.78205128 0.92941176 0.93650794\n",
      " 0.72262774 1.        ]\n"
     ]
    },
    {
     "data": {
      "image/png": "[encoded data removed]",
      "text/plain": [
       "<Figure size 432x288 with 2 Axes>"
      ]
     },
     "metadata": {
      "needs_background": "light"
     },
     "output_type": "display_data"
    }
   ],
   "source": [
    "test_pred_rfc = rfc.predict(test_vector)\n",
    "print (\"accuracy is \" ,accuracy_score(test_y,test_pred_rfc))\n",
    "cm = confusion_matrix(test_y,test_pred_rfc)\n",
    "sns.heatmap(cm,cmap='BuPu',annot=True,fmt='d')\n",
    "recalls = np.diag(cm) / np.sum(cm, axis = 1)\n",
    "print (\"recall is \" ,recalls)\n",
    "precision = np.diag(cm) / np.sum(cm, axis = 0)\n",
    "print (\"precision is \" ,precision)"
   ]
  },
  {
   "cell_type": "code",
   "execution_count": 54,
   "id": "2d932a9b",
   "metadata": {},
   "outputs": [],
   "source": [
    "from sklearn.linear_model import LogisticRegression\n",
    "\n",
    "lrc = LogisticRegression().fit(train_vector,train_y)"
   ]
  },
  {
   "cell_type": "code",
   "execution_count": 55,
   "id": "c6de4274",
   "metadata": {},
   "outputs": [
    {
     "name": "stdout",
     "output_type": "stream",
     "text": [
      "accuracy is  0.8145833333333333\n"
     ]
    },
    {
     "data": {
      "text/plain": [
       "<AxesSubplot:>"
      ]
     },
     "execution_count": 55,
     "metadata": {},
     "output_type": "execute_result"
    },
    {
     "data": {
      "image/png": "[encoded data removed]",
      "text/plain": [
       "<Figure size 432x288 with 2 Axes>"
      ]
     },
     "metadata": {
      "needs_background": "light"
     },
     "output_type": "display_data"
    }
   ],
   "source": [
    "val_pred_lrc = lrc.predict(val_vector)\n",
    "print (\"accuracy is \" ,accuracy_score(val_y,val_pred_nb))\n",
    "cm=confusion_matrix(val_y,val_pred_lrc)\n",
    "sns.heatmap(cm,cmap='BuPu',annot=True,fmt='d')\n"
   ]
  },
  {
   "cell_type": "code",
   "execution_count": 56,
   "id": "4ddb66c7",
   "metadata": {},
   "outputs": [
    {
     "name": "stdout",
     "output_type": "stream",
     "text": [
      "accuracy is  0.77375\n",
      "recall is  [0.98 0.87 0.97 0.7  0.78 0.52 0.97 0.4 ]\n",
      "precision is  [0.77165354 0.76315789 0.74615385 0.61403509 0.82105263 0.8\n",
      " 0.85087719 0.97560976]\n"
     ]
    },
    {
     "data": {
      "image/png": "[encoded data removed]",
      "text/plain": [
       "<Figure size 432x288 with 2 Axes>"
      ]
     },
     "metadata": {
      "needs_background": "light"
     },
     "output_type": "display_data"
    }
   ],
   "source": [
    "test_pred_lrc = lrc.predict(test_vector)\n",
    "print (\"accuracy is \" ,accuracy_score(test_y,test_pred_lrc))\n",
    "\n",
    "cm = confusion_matrix(test_y,test_pred_lrc)\n",
    "sns.heatmap(cm,cmap='BuPu',annot=True,fmt='d')\n",
    "recalls = np.diag(cm) / np.sum(cm, axis = 1)\n",
    "print (\"recall is \" ,recalls)\n",
    "precision = np.diag(cm) / np.sum(cm, axis = 0)\n",
    "print (\"precision is \" ,precision)"
   ]
  },
  {
   "cell_type": "code",
   "execution_count": null,
   "id": "f233b465",
   "metadata": {},
   "outputs": [],
   "source": []
  }
 ],
 "metadata": {
  "kernelspec": {
   "display_name": "Python 3",
   "language": "python",
   "name": "python3"
  },
  "language_info": {
   "codemirror_mode": {
    "name": "ipython",
    "version": 3
   },
   "file_extension": ".py",
   "mimetype": "text/x-python",
   "name": "python",
   "nbconvert_exporter": "python",
   "pygments_lexer": "ipython3",
   "version": "3.8.8"
  }
 },
 "nbformat": 4,
 "nbformat_minor": 5
}
